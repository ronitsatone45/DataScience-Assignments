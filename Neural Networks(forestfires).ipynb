{
 "cells": [
  {
   "cell_type": "markdown",
   "id": "a12f84bc",
   "metadata": {},
   "source": [
    "# Neural Networks(forestfires)"
   ]
  },
  {
   "cell_type": "markdown",
   "id": "bb5ca405",
   "metadata": {},
   "source": [
    "PREDICT THE BURNED AREA OF FOREST FIRES WITH NEURAL NETWORKS\n"
   ]
  },
  {
   "cell_type": "code",
   "execution_count": 22,
   "id": "4c33161f",
   "metadata": {
    "ExecuteTime": {
     "end_time": "2021-08-30T12:05:33.073453Z",
     "start_time": "2021-08-30T12:05:11.869586Z"
    }
   },
   "outputs": [
    {
     "name": "stdout",
     "output_type": "stream",
     "text": [
      "Requirement already satisfied: keras in c:\\users\\raman\\anaconda3\\lib\\site-packages (2.6.0)\n",
      "Requirement already satisfied: tensorflow in c:\\users\\raman\\anaconda3\\lib\\site-packages (2.6.0)\n",
      "Requirement already satisfied: h5py~=3.1.0 in c:\\users\\raman\\anaconda3\\lib\\site-packages (from tensorflow) (3.1.0)\n",
      "Requirement already satisfied: grpcio<2.0,>=1.37.0 in c:\\users\\raman\\anaconda3\\lib\\site-packages (from tensorflow) (1.39.0)\n",
      "Requirement already satisfied: gast==0.4.0 in c:\\users\\raman\\anaconda3\\lib\\site-packages (from tensorflow) (0.4.0)\n",
      "Requirement already satisfied: keras~=2.6 in c:\\users\\raman\\anaconda3\\lib\\site-packages (from tensorflow) (2.6.0)\n",
      "Requirement already satisfied: keras-preprocessing~=1.1.2 in c:\\users\\raman\\anaconda3\\lib\\site-packages (from tensorflow) (1.1.2)\n",
      "Requirement already satisfied: termcolor~=1.1.0 in c:\\users\\raman\\anaconda3\\lib\\site-packages (from tensorflow) (1.1.0)\n",
      "Requirement already satisfied: tensorflow-estimator~=2.6 in c:\\users\\raman\\anaconda3\\lib\\site-packages (from tensorflow) (2.6.0)\n",
      "Requirement already satisfied: google-pasta~=0.2 in c:\\users\\raman\\anaconda3\\lib\\site-packages (from tensorflow) (0.2.0)\n",
      "Requirement already satisfied: wrapt~=1.12.1 in c:\\users\\raman\\anaconda3\\lib\\site-packages (from tensorflow) (1.12.1)\n",
      "Requirement already satisfied: clang~=5.0 in c:\\users\\raman\\anaconda3\\lib\\site-packages (from tensorflow) (5.0)\n",
      "Requirement already satisfied: opt-einsum~=3.3.0 in c:\\users\\raman\\anaconda3\\lib\\site-packages (from tensorflow) (3.3.0)\n",
      "Requirement already satisfied: flatbuffers~=1.12.0 in c:\\users\\raman\\anaconda3\\lib\\site-packages (from tensorflow) (1.12)\n",
      "Requirement already satisfied: wheel~=0.35 in c:\\users\\raman\\anaconda3\\lib\\site-packages (from tensorflow) (0.36.2)\n",
      "Requirement already satisfied: typing-extensions~=3.7.4 in c:\\users\\raman\\anaconda3\\lib\\site-packages (from tensorflow) (3.7.4.3)\n",
      "Requirement already satisfied: astunparse~=1.6.3 in c:\\users\\raman\\anaconda3\\lib\\site-packages (from tensorflow) (1.6.3)\n",
      "Requirement already satisfied: tensorboard~=2.6 in c:\\users\\raman\\anaconda3\\lib\\site-packages (from tensorflow) (2.6.0)\n",
      "Requirement already satisfied: absl-py~=0.10 in c:\\users\\raman\\anaconda3\\lib\\site-packages (from tensorflow) (0.13.0)\n",
      "Requirement already satisfied: six~=1.15.0 in c:\\users\\raman\\anaconda3\\lib\\site-packages (from tensorflow) (1.15.0)\n",
      "Requirement already satisfied: numpy~=1.19.2 in c:\\users\\raman\\anaconda3\\lib\\site-packages (from tensorflow) (1.19.5)\n",
      "Requirement already satisfied: protobuf>=3.9.2 in c:\\users\\raman\\anaconda3\\lib\\site-packages (from tensorflow) (3.17.3)\n",
      "Requirement already satisfied: google-auth-oauthlib<0.5,>=0.4.1 in c:\\users\\raman\\anaconda3\\lib\\site-packages (from tensorboard~=2.6->tensorflow) (0.4.5)\n",
      "Requirement already satisfied: markdown>=2.6.8 in c:\\users\\raman\\anaconda3\\lib\\site-packages (from tensorboard~=2.6->tensorflow) (3.3.4)\n",
      "Requirement already satisfied: werkzeug>=0.11.15 in c:\\users\\raman\\anaconda3\\lib\\site-packages (from tensorboard~=2.6->tensorflow) (1.0.1)\n",
      "Requirement already satisfied: tensorboard-data-server<0.7.0,>=0.6.0 in c:\\users\\raman\\anaconda3\\lib\\site-packages (from tensorboard~=2.6->tensorflow) (0.6.1)\n",
      "Requirement already satisfied: requests<3,>=2.21.0 in c:\\users\\raman\\anaconda3\\lib\\site-packages (from tensorboard~=2.6->tensorflow) (2.25.1)\n",
      "Requirement already satisfied: tensorboard-plugin-wit>=1.6.0 in c:\\users\\raman\\anaconda3\\lib\\site-packages (from tensorboard~=2.6->tensorflow) (1.8.0)\n",
      "Requirement already satisfied: google-auth<2,>=1.6.3 in c:\\users\\raman\\anaconda3\\lib\\site-packages (from tensorboard~=2.6->tensorflow) (1.35.0)\n",
      "Requirement already satisfied: setuptools>=41.0.0 in c:\\users\\raman\\anaconda3\\lib\\site-packages (from tensorboard~=2.6->tensorflow) (52.0.0.post20210125)\n",
      "Requirement already satisfied: pyasn1-modules>=0.2.1 in c:\\users\\raman\\anaconda3\\lib\\site-packages (from google-auth<2,>=1.6.3->tensorboard~=2.6->tensorflow) (0.2.8)\n",
      "Requirement already satisfied: rsa<5,>=3.1.4 in c:\\users\\raman\\anaconda3\\lib\\site-packages (from google-auth<2,>=1.6.3->tensorboard~=2.6->tensorflow) (4.7.2)\n",
      "Requirement already satisfied: cachetools<5.0,>=2.0.0 in c:\\users\\raman\\anaconda3\\lib\\site-packages (from google-auth<2,>=1.6.3->tensorboard~=2.6->tensorflow) (4.2.2)\n",
      "Requirement already satisfied: requests-oauthlib>=0.7.0 in c:\\users\\raman\\anaconda3\\lib\\site-packages (from google-auth-oauthlib<0.5,>=0.4.1->tensorboard~=2.6->tensorflow) (1.3.0)\n",
      "Requirement already satisfied: pyasn1<0.5.0,>=0.4.6 in c:\\users\\raman\\anaconda3\\lib\\site-packages (from pyasn1-modules>=0.2.1->google-auth<2,>=1.6.3->tensorboard~=2.6->tensorflow) (0.4.8)\n",
      "Requirement already satisfied: idna<3,>=2.5 in c:\\users\\raman\\anaconda3\\lib\\site-packages (from requests<3,>=2.21.0->tensorboard~=2.6->tensorflow) (2.10)\n",
      "Requirement already satisfied: chardet<5,>=3.0.2 in c:\\users\\raman\\anaconda3\\lib\\site-packages (from requests<3,>=2.21.0->tensorboard~=2.6->tensorflow) (4.0.0)\n",
      "Requirement already satisfied: certifi>=2017.4.17 in c:\\users\\raman\\anaconda3\\lib\\site-packages (from requests<3,>=2.21.0->tensorboard~=2.6->tensorflow) (2020.12.5)\n",
      "Requirement already satisfied: urllib3<1.27,>=1.21.1 in c:\\users\\raman\\anaconda3\\lib\\site-packages (from requests<3,>=2.21.0->tensorboard~=2.6->tensorflow) (1.26.4)\n",
      "Requirement already satisfied: oauthlib>=3.0.0 in c:\\users\\raman\\anaconda3\\lib\\site-packages (from requests-oauthlib>=0.7.0->google-auth-oauthlib<0.5,>=0.4.1->tensorboard~=2.6->tensorflow) (3.1.1)\n"
     ]
    }
   ],
   "source": [
    "!pip install keras\n",
    "!pip install tensorflow"
   ]
  },
  {
   "cell_type": "code",
   "execution_count": 23,
   "id": "d138b4f7",
   "metadata": {
    "ExecuteTime": {
     "end_time": "2021-08-30T12:05:33.081444Z",
     "start_time": "2021-08-30T12:05:33.073453Z"
    }
   },
   "outputs": [],
   "source": [
    "from keras.models import Sequential\n",
    "from keras.layers import Dense\n",
    "import numpy as np\n",
    "import numpy\n",
    "import pandas as pd"
   ]
  },
  {
   "cell_type": "code",
   "execution_count": 24,
   "id": "133bf633",
   "metadata": {
    "ExecuteTime": {
     "end_time": "2021-08-30T12:05:33.641184Z",
     "start_time": "2021-08-30T12:05:33.081444Z"
    }
   },
   "outputs": [
    {
     "data": {
      "text/html": [
       "<div>\n",
       "<style scoped>\n",
       "    .dataframe tbody tr th:only-of-type {\n",
       "        vertical-align: middle;\n",
       "    }\n",
       "\n",
       "    .dataframe tbody tr th {\n",
       "        vertical-align: top;\n",
       "    }\n",
       "\n",
       "    .dataframe thead th {\n",
       "        text-align: right;\n",
       "    }\n",
       "</style>\n",
       "<table border=\"1\" class=\"dataframe\">\n",
       "  <thead>\n",
       "    <tr style=\"text-align: right;\">\n",
       "      <th></th>\n",
       "      <th>month</th>\n",
       "      <th>day</th>\n",
       "      <th>FFMC</th>\n",
       "      <th>DMC</th>\n",
       "      <th>DC</th>\n",
       "      <th>ISI</th>\n",
       "      <th>temp</th>\n",
       "      <th>RH</th>\n",
       "      <th>wind</th>\n",
       "      <th>rain</th>\n",
       "      <th>...</th>\n",
       "      <th>monthfeb</th>\n",
       "      <th>monthjan</th>\n",
       "      <th>monthjul</th>\n",
       "      <th>monthjun</th>\n",
       "      <th>monthmar</th>\n",
       "      <th>monthmay</th>\n",
       "      <th>monthnov</th>\n",
       "      <th>monthoct</th>\n",
       "      <th>monthsep</th>\n",
       "      <th>size_category</th>\n",
       "    </tr>\n",
       "  </thead>\n",
       "  <tbody>\n",
       "    <tr>\n",
       "      <th>0</th>\n",
       "      <td>mar</td>\n",
       "      <td>fri</td>\n",
       "      <td>86.2</td>\n",
       "      <td>26.2</td>\n",
       "      <td>94.3</td>\n",
       "      <td>5.1</td>\n",
       "      <td>8.2</td>\n",
       "      <td>51</td>\n",
       "      <td>6.7</td>\n",
       "      <td>0.0</td>\n",
       "      <td>...</td>\n",
       "      <td>0</td>\n",
       "      <td>0</td>\n",
       "      <td>0</td>\n",
       "      <td>0</td>\n",
       "      <td>1</td>\n",
       "      <td>0</td>\n",
       "      <td>0</td>\n",
       "      <td>0</td>\n",
       "      <td>0</td>\n",
       "      <td>small</td>\n",
       "    </tr>\n",
       "    <tr>\n",
       "      <th>1</th>\n",
       "      <td>oct</td>\n",
       "      <td>tue</td>\n",
       "      <td>90.6</td>\n",
       "      <td>35.4</td>\n",
       "      <td>669.1</td>\n",
       "      <td>6.7</td>\n",
       "      <td>18.0</td>\n",
       "      <td>33</td>\n",
       "      <td>0.9</td>\n",
       "      <td>0.0</td>\n",
       "      <td>...</td>\n",
       "      <td>0</td>\n",
       "      <td>0</td>\n",
       "      <td>0</td>\n",
       "      <td>0</td>\n",
       "      <td>0</td>\n",
       "      <td>0</td>\n",
       "      <td>0</td>\n",
       "      <td>1</td>\n",
       "      <td>0</td>\n",
       "      <td>small</td>\n",
       "    </tr>\n",
       "    <tr>\n",
       "      <th>2</th>\n",
       "      <td>oct</td>\n",
       "      <td>sat</td>\n",
       "      <td>90.6</td>\n",
       "      <td>43.7</td>\n",
       "      <td>686.9</td>\n",
       "      <td>6.7</td>\n",
       "      <td>14.6</td>\n",
       "      <td>33</td>\n",
       "      <td>1.3</td>\n",
       "      <td>0.0</td>\n",
       "      <td>...</td>\n",
       "      <td>0</td>\n",
       "      <td>0</td>\n",
       "      <td>0</td>\n",
       "      <td>0</td>\n",
       "      <td>0</td>\n",
       "      <td>0</td>\n",
       "      <td>0</td>\n",
       "      <td>1</td>\n",
       "      <td>0</td>\n",
       "      <td>small</td>\n",
       "    </tr>\n",
       "    <tr>\n",
       "      <th>3</th>\n",
       "      <td>mar</td>\n",
       "      <td>fri</td>\n",
       "      <td>91.7</td>\n",
       "      <td>33.3</td>\n",
       "      <td>77.5</td>\n",
       "      <td>9.0</td>\n",
       "      <td>8.3</td>\n",
       "      <td>97</td>\n",
       "      <td>4.0</td>\n",
       "      <td>0.2</td>\n",
       "      <td>...</td>\n",
       "      <td>0</td>\n",
       "      <td>0</td>\n",
       "      <td>0</td>\n",
       "      <td>0</td>\n",
       "      <td>1</td>\n",
       "      <td>0</td>\n",
       "      <td>0</td>\n",
       "      <td>0</td>\n",
       "      <td>0</td>\n",
       "      <td>small</td>\n",
       "    </tr>\n",
       "    <tr>\n",
       "      <th>4</th>\n",
       "      <td>mar</td>\n",
       "      <td>sun</td>\n",
       "      <td>89.3</td>\n",
       "      <td>51.3</td>\n",
       "      <td>102.2</td>\n",
       "      <td>9.6</td>\n",
       "      <td>11.4</td>\n",
       "      <td>99</td>\n",
       "      <td>1.8</td>\n",
       "      <td>0.0</td>\n",
       "      <td>...</td>\n",
       "      <td>0</td>\n",
       "      <td>0</td>\n",
       "      <td>0</td>\n",
       "      <td>0</td>\n",
       "      <td>1</td>\n",
       "      <td>0</td>\n",
       "      <td>0</td>\n",
       "      <td>0</td>\n",
       "      <td>0</td>\n",
       "      <td>small</td>\n",
       "    </tr>\n",
       "  </tbody>\n",
       "</table>\n",
       "<p>5 rows × 31 columns</p>\n",
       "</div>"
      ],
      "text/plain": [
       "  month  day  FFMC   DMC     DC  ISI  temp  RH  wind  rain  ...  monthfeb  \\\n",
       "0   mar  fri  86.2  26.2   94.3  5.1   8.2  51   6.7   0.0  ...         0   \n",
       "1   oct  tue  90.6  35.4  669.1  6.7  18.0  33   0.9   0.0  ...         0   \n",
       "2   oct  sat  90.6  43.7  686.9  6.7  14.6  33   1.3   0.0  ...         0   \n",
       "3   mar  fri  91.7  33.3   77.5  9.0   8.3  97   4.0   0.2  ...         0   \n",
       "4   mar  sun  89.3  51.3  102.2  9.6  11.4  99   1.8   0.0  ...         0   \n",
       "\n",
       "   monthjan  monthjul  monthjun  monthmar  monthmay  monthnov  monthoct  \\\n",
       "0         0         0         0         1         0         0         0   \n",
       "1         0         0         0         0         0         0         1   \n",
       "2         0         0         0         0         0         0         1   \n",
       "3         0         0         0         1         0         0         0   \n",
       "4         0         0         0         1         0         0         0   \n",
       "\n",
       "   monthsep  size_category  \n",
       "0         0          small  \n",
       "1         0          small  \n",
       "2         0          small  \n",
       "3         0          small  \n",
       "4         0          small  \n",
       "\n",
       "[5 rows x 31 columns]"
      ]
     },
     "execution_count": 24,
     "metadata": {},
     "output_type": "execute_result"
    }
   ],
   "source": [
    "data=pd.read_csv(\"forestfires.csv\")\n",
    "data.head()"
   ]
  },
  {
   "cell_type": "code",
   "execution_count": 25,
   "id": "12fa4706",
   "metadata": {
    "ExecuteTime": {
     "end_time": "2021-08-30T12:05:33.875404Z",
     "start_time": "2021-08-30T12:05:33.641184Z"
    }
   },
   "outputs": [
    {
     "data": {
      "text/plain": [
       "array([[-8.05959472e-01, -1.32332557e+00, -1.83047676e+00, ...,\n",
       "        -4.40225453e-02, -1.72859706e-01, -7.06081245e-01],\n",
       "       [-8.10203395e-03, -1.17954077e+00,  4.88890915e-01, ...,\n",
       "        -4.40225453e-02,  5.78503817e+00, -7.06081245e-01],\n",
       "       [-8.10203395e-03, -1.04982188e+00,  5.60715454e-01, ...,\n",
       "        -4.40225453e-02,  5.78503817e+00, -7.06081245e-01],\n",
       "       ...,\n",
       "       [-1.64008316e+00, -8.46647711e-01,  4.74768113e-01, ...,\n",
       "        -4.40225453e-02, -1.72859706e-01, -7.06081245e-01],\n",
       "       [ 6.80956663e-01,  5.49002541e-01,  2.69382214e-01, ...,\n",
       "        -4.40225453e-02, -1.72859706e-01, -7.06081245e-01],\n",
       "       [-2.02087875e+00, -1.68591332e+00, -1.78044169e+00, ...,\n",
       "         2.27156334e+01, -1.72859706e-01, -7.06081245e-01]])"
      ]
     },
     "execution_count": 25,
     "metadata": {},
     "output_type": "execute_result"
    }
   ],
   "source": [
    "#scaling the numerical data\n",
    "data1=data.iloc[:,2:30]\n",
    "from sklearn.preprocessing import StandardScaler\n",
    "sc=StandardScaler()\n",
    "data_norm=sc.fit_transform(data1)\n",
    "data_norm"
   ]
  },
  {
   "cell_type": "code",
   "execution_count": 26,
   "id": "48ee14af",
   "metadata": {
    "ExecuteTime": {
     "end_time": "2021-08-30T12:05:34.372477Z",
     "start_time": "2021-08-30T12:05:33.875404Z"
    }
   },
   "outputs": [
    {
     "data": {
      "text/plain": [
       "(array([ 18.,  11.,  31.,  47.,  92., 127.,  99.,  55.,  24.,  13.]),\n",
       " array([ 2.2 ,  5.31,  8.42, 11.53, 14.64, 17.75, 20.86, 23.97, 27.08,\n",
       "        30.19, 33.3 ]),\n",
       " <BarContainer object of 10 artists>)"
      ]
     },
     "execution_count": 26,
     "metadata": {},
     "output_type": "execute_result"
    },
    {
     "data": {
      "image/png": "[encoded data removed]",
      "text/plain": [
       "<Figure size 432x288 with 1 Axes>"
      ]
     },
     "metadata": {
      "needs_background": "light"
     },
     "output_type": "display_data"
    }
   ],
   "source": [
    "## VISUALIZATION \n",
    "import matplotlib.pyplot as plt\n",
    "plt.hist(data['temp'])"
   ]
  },
  {
   "cell_type": "code",
   "execution_count": 27,
   "id": "b792e66b",
   "metadata": {
    "ExecuteTime": {
     "end_time": "2021-08-30T12:05:34.612457Z",
     "start_time": "2021-08-30T12:05:34.372477Z"
    }
   },
   "outputs": [
    {
     "data": {
      "text/plain": [
       "(array([ 21.,  96., 130., 104.,  63.,  40.,  31.,  20.,   7.,   5.]),\n",
       " array([ 15. ,  23.5,  32. ,  40.5,  49. ,  57.5,  66. ,  74.5,  83. ,\n",
       "         91.5, 100. ]),\n",
       " <BarContainer object of 10 artists>)"
      ]
     },
     "execution_count": 27,
     "metadata": {},
     "output_type": "execute_result"
    },
    {
     "data": {
      "image/png": "[encoded data removed]",
      "text/plain": [
       "<Figure size 432x288 with 1 Axes>"
      ]
     },
     "metadata": {
      "needs_background": "light"
     },
     "output_type": "display_data"
    }
   ],
   "source": [
    "plt.hist(data['RH'])"
   ]
  },
  {
   "cell_type": "code",
   "execution_count": 28,
   "id": "9e168b16",
   "metadata": {
    "ExecuteTime": {
     "end_time": "2021-08-30T12:05:34.844435Z",
     "start_time": "2021-08-30T12:05:34.612457Z"
    }
   },
   "outputs": [
    {
     "data": {
      "text/plain": [
       "<AxesSubplot:>"
      ]
     },
     "execution_count": 28,
     "metadata": {},
     "output_type": "execute_result"
    },
    {
     "data": {
      "image/png": "[encoded data removed]",
      "text/plain": [
       "<Figure size 432x288 with 1 Axes>"
      ]
     },
     "metadata": {
      "needs_background": "light"
     },
     "output_type": "display_data"
    }
   ],
   "source": [
    "## Box plot\n",
    "data.boxplot(column=['FFMC'])"
   ]
  },
  {
   "cell_type": "code",
   "execution_count": 29,
   "id": "32501289",
   "metadata": {
    "ExecuteTime": {
     "end_time": "2021-08-30T12:05:35.052363Z",
     "start_time": "2021-08-30T12:05:34.844435Z"
    }
   },
   "outputs": [
    {
     "data": {
      "text/plain": [
       "<AxesSubplot:>"
      ]
     },
     "execution_count": 29,
     "metadata": {},
     "output_type": "execute_result"
    },
    {
     "data": {
      "image/png": "[encoded data removed]",
      "text/plain": [
       "<Figure size 432x288 with 1 Axes>"
      ]
     },
     "metadata": {
      "needs_background": "light"
     },
     "output_type": "display_data"
    }
   ],
   "source": [
    "data.boxplot(column=['wind'])"
   ]
  },
  {
   "cell_type": "code",
   "execution_count": 30,
   "id": "7dd80bd7",
   "metadata": {
    "ExecuteTime": {
     "end_time": "2021-08-30T12:05:35.309188Z",
     "start_time": "2021-08-30T12:05:35.052363Z"
    }
   },
   "outputs": [
    {
     "data": {
      "image/png": "[encoded data removed]",
      "text/plain": [
       "<Figure size 864x576 with 1 Axes>"
      ]
     },
     "metadata": {
      "needs_background": "light"
     },
     "output_type": "display_data"
    }
   ],
   "source": [
    "import seaborn as sns\n",
    "plt.figure(figsize = (12,8))\n",
    "sns.boxenplot(x = 'size_category', y = 'temp', data = data)\n",
    "plt.show()"
   ]
  },
  {
   "cell_type": "code",
   "execution_count": 31,
   "id": "29bf70aa",
   "metadata": {
    "ExecuteTime": {
     "end_time": "2021-08-30T12:05:35.341170Z",
     "start_time": "2021-08-30T12:05:35.309188Z"
    }
   },
   "outputs": [
    {
     "data": {
      "text/plain": [
       "array([[ 3.76670947e+00, -1.32025451e+00, -8.43971398e-01, ...,\n",
       "        -6.53345819e-02,  4.98037274e-16, -2.73530281e-16],\n",
       "       [ 3.90786263e-01,  8.31061522e-01, -1.10136513e+00, ...,\n",
       "         3.42618601e-02, -9.55928328e-15,  1.15055466e-15],\n",
       "       [ 6.90415596e-01,  1.17774562e+00, -1.22199841e+00, ...,\n",
       "         2.63235187e-02,  2.58690766e-15, -5.66797432e-17],\n",
       "       ...,\n",
       "       [ 9.21634000e-01, -2.64543072e-01,  2.71921606e+00, ...,\n",
       "        -2.97865814e-01, -1.84247930e-16,  2.36645381e-16],\n",
       "       [-1.62054896e+00, -9.78838231e-01,  3.31987355e-01, ...,\n",
       "         3.91949863e-02, -2.30354869e-16,  2.72058887e-16],\n",
       "       [ 4.07590654e+00, -3.67440726e-01, -2.47151775e-01, ...,\n",
       "        -2.50420726e-02,  5.70142521e-17,  8.50237385e-17]])"
      ]
     },
     "execution_count": 31,
     "metadata": {},
     "output_type": "execute_result"
    }
   ],
   "source": [
    "## Since there are more columns we reduce it using PCA\n",
    "\n",
    "\n",
    "from sklearn.decomposition import PCA\n",
    "pca=PCA(n_components=28)\n",
    "pca_values=pca.fit_transform(data_norm)\n",
    "pca_values"
   ]
  },
  {
   "cell_type": "code",
   "execution_count": 32,
   "id": "0d451159",
   "metadata": {
    "ExecuteTime": {
     "end_time": "2021-08-30T12:05:35.453164Z",
     "start_time": "2021-08-30T12:05:35.341170Z"
    }
   },
   "outputs": [
    {
     "data": {
      "text/plain": [
       "array([1.35522746e-01, 6.85788793e-02, 6.23572652e-02, 5.32713255e-02,\n",
       "       4.75942360e-02, 4.68009902e-02, 4.37490015e-02, 4.28025164e-02,\n",
       "       4.08875728e-02, 4.01633268e-02, 3.92926854e-02, 3.83232321e-02,\n",
       "       3.64221503e-02, 3.63217289e-02, 3.57856782e-02, 3.50087806e-02,\n",
       "       3.35447704e-02, 3.24777366e-02, 3.04490902e-02, 3.00246758e-02,\n",
       "       2.37167400e-02, 2.08329788e-02, 1.18357869e-02, 8.88449559e-03,\n",
       "       4.55347471e-03, 7.98135931e-04, 2.67271490e-32, 1.95971390e-33])"
      ]
     },
     "execution_count": 32,
     "metadata": {},
     "output_type": "execute_result"
    }
   ],
   "source": [
    "var=pca.explained_variance_ratio_\n",
    "var"
   ]
  },
  {
   "cell_type": "code",
   "execution_count": 33,
   "id": "b89a22f5",
   "metadata": {
    "ExecuteTime": {
     "end_time": "2021-08-30T12:05:35.733507Z",
     "start_time": "2021-08-30T12:05:35.453164Z"
    }
   },
   "outputs": [
    {
     "data": {
      "text/plain": [
       "array([13.55, 20.41, 26.65, 31.98, 36.74, 41.42, 45.79, 50.07, 54.16,\n",
       "       58.18, 62.11, 65.94, 69.58, 73.21, 76.79, 80.29, 83.64, 86.89,\n",
       "       89.93, 92.93, 95.3 , 97.38, 98.56, 99.45, 99.91, 99.99, 99.99,\n",
       "       99.99])"
      ]
     },
     "execution_count": 33,
     "metadata": {},
     "output_type": "execute_result"
    }
   ],
   "source": [
    "var1=np.cumsum(np.round(var,decimals=4)*100)\n",
    "var1"
   ]
  },
  {
   "cell_type": "code",
   "execution_count": 34,
   "id": "98d0fc08",
   "metadata": {
    "ExecuteTime": {
     "end_time": "2021-08-30T12:05:36.085447Z",
     "start_time": "2021-08-30T12:05:35.733507Z"
    }
   },
   "outputs": [
    {
     "data": {
      "text/plain": [
       "[<matplotlib.lines.Line2D at 0x240fd006f70>]"
      ]
     },
     "execution_count": 34,
     "metadata": {},
     "output_type": "execute_result"
    },
    {
     "data": {
      "image/png": "[encoded data removed]",
      "text/plain": [
       "<Figure size 864x576 with 1 Axes>"
      ]
     },
     "metadata": {
      "needs_background": "light"
     },
     "output_type": "display_data"
    }
   ],
   "source": [
    "import matplotlib.pyplot as plt\n",
    "plt.figure(figsize=(12,8))\n",
    "plt.plot(var1,color='red')"
   ]
  },
  {
   "cell_type": "code",
   "execution_count": 35,
   "id": "b18b5399",
   "metadata": {
    "ExecuteTime": {
     "end_time": "2021-08-30T12:05:36.157465Z",
     "start_time": "2021-08-30T12:05:36.085447Z"
    }
   },
   "outputs": [
    {
     "data": {
      "text/html": [
       "<div>\n",
       "<style scoped>\n",
       "    .dataframe tbody tr th:only-of-type {\n",
       "        vertical-align: middle;\n",
       "    }\n",
       "\n",
       "    .dataframe tbody tr th {\n",
       "        vertical-align: top;\n",
       "    }\n",
       "\n",
       "    .dataframe thead th {\n",
       "        text-align: right;\n",
       "    }\n",
       "</style>\n",
       "<table border=\"1\" class=\"dataframe\">\n",
       "  <thead>\n",
       "    <tr style=\"text-align: right;\">\n",
       "      <th></th>\n",
       "      <th>pc1</th>\n",
       "      <th>pc2</th>\n",
       "      <th>pc3</th>\n",
       "      <th>pc4</th>\n",
       "      <th>pc5</th>\n",
       "      <th>pc6</th>\n",
       "      <th>pc7</th>\n",
       "      <th>pc8</th>\n",
       "      <th>pc9</th>\n",
       "      <th>pc10</th>\n",
       "      <th>...</th>\n",
       "      <th>pc14</th>\n",
       "      <th>pc15</th>\n",
       "      <th>pc16</th>\n",
       "      <th>pc17</th>\n",
       "      <th>pc18</th>\n",
       "      <th>pc19</th>\n",
       "      <th>pc20</th>\n",
       "      <th>pc21</th>\n",
       "      <th>pc22</th>\n",
       "      <th>size_category</th>\n",
       "    </tr>\n",
       "  </thead>\n",
       "  <tbody>\n",
       "    <tr>\n",
       "      <th>0</th>\n",
       "      <td>3.766709</td>\n",
       "      <td>-1.320255</td>\n",
       "      <td>-0.843971</td>\n",
       "      <td>-1.994738</td>\n",
       "      <td>-1.453359</td>\n",
       "      <td>0.693985</td>\n",
       "      <td>0.308104</td>\n",
       "      <td>-0.019764</td>\n",
       "      <td>0.010161</td>\n",
       "      <td>-0.437314</td>\n",
       "      <td>...</td>\n",
       "      <td>-0.671216</td>\n",
       "      <td>-0.529599</td>\n",
       "      <td>-0.197543</td>\n",
       "      <td>-0.021839</td>\n",
       "      <td>0.688958</td>\n",
       "      <td>0.563603</td>\n",
       "      <td>-0.439596</td>\n",
       "      <td>-0.926619</td>\n",
       "      <td>-0.405425</td>\n",
       "      <td>0</td>\n",
       "    </tr>\n",
       "    <tr>\n",
       "      <th>1</th>\n",
       "      <td>0.390786</td>\n",
       "      <td>0.831062</td>\n",
       "      <td>-1.101365</td>\n",
       "      <td>1.400671</td>\n",
       "      <td>2.869388</td>\n",
       "      <td>0.965898</td>\n",
       "      <td>-2.795574</td>\n",
       "      <td>0.041095</td>\n",
       "      <td>-0.548879</td>\n",
       "      <td>0.104500</td>\n",
       "      <td>...</td>\n",
       "      <td>1.417634</td>\n",
       "      <td>-0.879983</td>\n",
       "      <td>-2.503167</td>\n",
       "      <td>0.499649</td>\n",
       "      <td>0.563706</td>\n",
       "      <td>-0.703319</td>\n",
       "      <td>-1.535718</td>\n",
       "      <td>-0.892995</td>\n",
       "      <td>0.836590</td>\n",
       "      <td>0</td>\n",
       "    </tr>\n",
       "    <tr>\n",
       "      <th>2</th>\n",
       "      <td>0.690416</td>\n",
       "      <td>1.177746</td>\n",
       "      <td>-1.221998</td>\n",
       "      <td>2.442038</td>\n",
       "      <td>1.090630</td>\n",
       "      <td>0.390801</td>\n",
       "      <td>-1.586675</td>\n",
       "      <td>-2.159336</td>\n",
       "      <td>-0.090580</td>\n",
       "      <td>0.260888</td>\n",
       "      <td>...</td>\n",
       "      <td>1.477351</td>\n",
       "      <td>-0.946682</td>\n",
       "      <td>-2.545144</td>\n",
       "      <td>-0.658411</td>\n",
       "      <td>-0.423618</td>\n",
       "      <td>0.860550</td>\n",
       "      <td>-1.195230</td>\n",
       "      <td>-0.297870</td>\n",
       "      <td>0.743648</td>\n",
       "      <td>0</td>\n",
       "    </tr>\n",
       "    <tr>\n",
       "      <th>3</th>\n",
       "      <td>3.359951</td>\n",
       "      <td>-1.161443</td>\n",
       "      <td>0.385728</td>\n",
       "      <td>-2.118328</td>\n",
       "      <td>-1.949601</td>\n",
       "      <td>1.027664</td>\n",
       "      <td>-0.179422</td>\n",
       "      <td>-0.250227</td>\n",
       "      <td>-0.620329</td>\n",
       "      <td>-1.343189</td>\n",
       "      <td>...</td>\n",
       "      <td>-0.752744</td>\n",
       "      <td>0.349346</td>\n",
       "      <td>-0.040887</td>\n",
       "      <td>0.017843</td>\n",
       "      <td>0.332572</td>\n",
       "      <td>1.164745</td>\n",
       "      <td>-1.632741</td>\n",
       "      <td>-0.817618</td>\n",
       "      <td>1.523710</td>\n",
       "      <td>0</td>\n",
       "    </tr>\n",
       "    <tr>\n",
       "      <th>4</th>\n",
       "      <td>2.974329</td>\n",
       "      <td>-0.842626</td>\n",
       "      <td>1.327788</td>\n",
       "      <td>0.038086</td>\n",
       "      <td>-1.124763</td>\n",
       "      <td>-0.574676</td>\n",
       "      <td>-0.777155</td>\n",
       "      <td>0.303635</td>\n",
       "      <td>0.861126</td>\n",
       "      <td>-2.024719</td>\n",
       "      <td>...</td>\n",
       "      <td>-0.823316</td>\n",
       "      <td>0.402298</td>\n",
       "      <td>0.844431</td>\n",
       "      <td>1.014944</td>\n",
       "      <td>-0.618231</td>\n",
       "      <td>0.822853</td>\n",
       "      <td>-1.794109</td>\n",
       "      <td>-0.723371</td>\n",
       "      <td>2.020419</td>\n",
       "      <td>0</td>\n",
       "    </tr>\n",
       "    <tr>\n",
       "      <th>...</th>\n",
       "      <td>...</td>\n",
       "      <td>...</td>\n",
       "      <td>...</td>\n",
       "      <td>...</td>\n",
       "      <td>...</td>\n",
       "      <td>...</td>\n",
       "      <td>...</td>\n",
       "      <td>...</td>\n",
       "      <td>...</td>\n",
       "      <td>...</td>\n",
       "      <td>...</td>\n",
       "      <td>...</td>\n",
       "      <td>...</td>\n",
       "      <td>...</td>\n",
       "      <td>...</td>\n",
       "      <td>...</td>\n",
       "      <td>...</td>\n",
       "      <td>...</td>\n",
       "      <td>...</td>\n",
       "      <td>...</td>\n",
       "      <td>...</td>\n",
       "    </tr>\n",
       "    <tr>\n",
       "      <th>512</th>\n",
       "      <td>-0.087560</td>\n",
       "      <td>0.153964</td>\n",
       "      <td>1.241810</td>\n",
       "      <td>1.536581</td>\n",
       "      <td>0.372425</td>\n",
       "      <td>-1.133422</td>\n",
       "      <td>-0.362287</td>\n",
       "      <td>0.766946</td>\n",
       "      <td>0.818745</td>\n",
       "      <td>-0.289632</td>\n",
       "      <td>...</td>\n",
       "      <td>0.197490</td>\n",
       "      <td>-0.801640</td>\n",
       "      <td>0.300522</td>\n",
       "      <td>0.513876</td>\n",
       "      <td>0.539642</td>\n",
       "      <td>-0.052958</td>\n",
       "      <td>1.898628</td>\n",
       "      <td>-1.441786</td>\n",
       "      <td>-0.821192</td>\n",
       "      <td>1</td>\n",
       "    </tr>\n",
       "    <tr>\n",
       "      <th>513</th>\n",
       "      <td>0.794366</td>\n",
       "      <td>-0.083966</td>\n",
       "      <td>2.670485</td>\n",
       "      <td>0.284995</td>\n",
       "      <td>0.223323</td>\n",
       "      <td>-0.904232</td>\n",
       "      <td>-0.014849</td>\n",
       "      <td>0.107226</td>\n",
       "      <td>1.340049</td>\n",
       "      <td>-0.147246</td>\n",
       "      <td>...</td>\n",
       "      <td>0.162358</td>\n",
       "      <td>-0.274733</td>\n",
       "      <td>0.342367</td>\n",
       "      <td>0.485571</td>\n",
       "      <td>0.580150</td>\n",
       "      <td>0.384984</td>\n",
       "      <td>0.086251</td>\n",
       "      <td>-0.970693</td>\n",
       "      <td>-1.353365</td>\n",
       "      <td>1</td>\n",
       "    </tr>\n",
       "    <tr>\n",
       "      <th>514</th>\n",
       "      <td>0.921634</td>\n",
       "      <td>-0.264543</td>\n",
       "      <td>2.719216</td>\n",
       "      <td>-0.019643</td>\n",
       "      <td>0.242195</td>\n",
       "      <td>-0.966939</td>\n",
       "      <td>-0.118080</td>\n",
       "      <td>0.123010</td>\n",
       "      <td>1.290364</td>\n",
       "      <td>-0.177553</td>\n",
       "      <td>...</td>\n",
       "      <td>0.062647</td>\n",
       "      <td>-0.494765</td>\n",
       "      <td>0.332816</td>\n",
       "      <td>0.344047</td>\n",
       "      <td>0.122409</td>\n",
       "      <td>0.313948</td>\n",
       "      <td>0.211157</td>\n",
       "      <td>-0.777731</td>\n",
       "      <td>-1.736711</td>\n",
       "      <td>1</td>\n",
       "    </tr>\n",
       "    <tr>\n",
       "      <th>515</th>\n",
       "      <td>-1.620549</td>\n",
       "      <td>-0.978838</td>\n",
       "      <td>0.331987</td>\n",
       "      <td>1.256638</td>\n",
       "      <td>-0.408164</td>\n",
       "      <td>0.735698</td>\n",
       "      <td>0.815510</td>\n",
       "      <td>-1.398344</td>\n",
       "      <td>0.076379</td>\n",
       "      <td>-0.005814</td>\n",
       "      <td>...</td>\n",
       "      <td>0.246912</td>\n",
       "      <td>-0.147679</td>\n",
       "      <td>-0.011739</td>\n",
       "      <td>-1.035533</td>\n",
       "      <td>-0.774382</td>\n",
       "      <td>-0.216315</td>\n",
       "      <td>0.515791</td>\n",
       "      <td>0.080575</td>\n",
       "      <td>-0.055548</td>\n",
       "      <td>0</td>\n",
       "    </tr>\n",
       "    <tr>\n",
       "      <th>516</th>\n",
       "      <td>4.075907</td>\n",
       "      <td>-0.367441</td>\n",
       "      <td>-0.247152</td>\n",
       "      <td>0.979966</td>\n",
       "      <td>6.792273</td>\n",
       "      <td>5.943666</td>\n",
       "      <td>-1.639583</td>\n",
       "      <td>8.121827</td>\n",
       "      <td>-0.627980</td>\n",
       "      <td>4.953722</td>\n",
       "      <td>...</td>\n",
       "      <td>6.584205</td>\n",
       "      <td>-6.010301</td>\n",
       "      <td>10.467443</td>\n",
       "      <td>-7.333036</td>\n",
       "      <td>0.377340</td>\n",
       "      <td>8.870354</td>\n",
       "      <td>-1.074288</td>\n",
       "      <td>2.382433</td>\n",
       "      <td>1.042850</td>\n",
       "      <td>0</td>\n",
       "    </tr>\n",
       "  </tbody>\n",
       "</table>\n",
       "<p>517 rows × 23 columns</p>\n",
       "</div>"
      ],
      "text/plain": [
       "          pc1       pc2       pc3       pc4       pc5       pc6       pc7  \\\n",
       "0    3.766709 -1.320255 -0.843971 -1.994738 -1.453359  0.693985  0.308104   \n",
       "1    0.390786  0.831062 -1.101365  1.400671  2.869388  0.965898 -2.795574   \n",
       "2    0.690416  1.177746 -1.221998  2.442038  1.090630  0.390801 -1.586675   \n",
       "3    3.359951 -1.161443  0.385728 -2.118328 -1.949601  1.027664 -0.179422   \n",
       "4    2.974329 -0.842626  1.327788  0.038086 -1.124763 -0.574676 -0.777155   \n",
       "..        ...       ...       ...       ...       ...       ...       ...   \n",
       "512 -0.087560  0.153964  1.241810  1.536581  0.372425 -1.133422 -0.362287   \n",
       "513  0.794366 -0.083966  2.670485  0.284995  0.223323 -0.904232 -0.014849   \n",
       "514  0.921634 -0.264543  2.719216 -0.019643  0.242195 -0.966939 -0.118080   \n",
       "515 -1.620549 -0.978838  0.331987  1.256638 -0.408164  0.735698  0.815510   \n",
       "516  4.075907 -0.367441 -0.247152  0.979966  6.792273  5.943666 -1.639583   \n",
       "\n",
       "          pc8       pc9      pc10  ...      pc14      pc15       pc16  \\\n",
       "0   -0.019764  0.010161 -0.437314  ... -0.671216 -0.529599  -0.197543   \n",
       "1    0.041095 -0.548879  0.104500  ...  1.417634 -0.879983  -2.503167   \n",
       "2   -2.159336 -0.090580  0.260888  ...  1.477351 -0.946682  -2.545144   \n",
       "3   -0.250227 -0.620329 -1.343189  ... -0.752744  0.349346  -0.040887   \n",
       "4    0.303635  0.861126 -2.024719  ... -0.823316  0.402298   0.844431   \n",
       "..        ...       ...       ...  ...       ...       ...        ...   \n",
       "512  0.766946  0.818745 -0.289632  ...  0.197490 -0.801640   0.300522   \n",
       "513  0.107226  1.340049 -0.147246  ...  0.162358 -0.274733   0.342367   \n",
       "514  0.123010  1.290364 -0.177553  ...  0.062647 -0.494765   0.332816   \n",
       "515 -1.398344  0.076379 -0.005814  ...  0.246912 -0.147679  -0.011739   \n",
       "516  8.121827 -0.627980  4.953722  ...  6.584205 -6.010301  10.467443   \n",
       "\n",
       "         pc17      pc18      pc19      pc20      pc21      pc22  size_category  \n",
       "0   -0.021839  0.688958  0.563603 -0.439596 -0.926619 -0.405425              0  \n",
       "1    0.499649  0.563706 -0.703319 -1.535718 -0.892995  0.836590              0  \n",
       "2   -0.658411 -0.423618  0.860550 -1.195230 -0.297870  0.743648              0  \n",
       "3    0.017843  0.332572  1.164745 -1.632741 -0.817618  1.523710              0  \n",
       "4    1.014944 -0.618231  0.822853 -1.794109 -0.723371  2.020419              0  \n",
       "..        ...       ...       ...       ...       ...       ...            ...  \n",
       "512  0.513876  0.539642 -0.052958  1.898628 -1.441786 -0.821192              1  \n",
       "513  0.485571  0.580150  0.384984  0.086251 -0.970693 -1.353365              1  \n",
       "514  0.344047  0.122409  0.313948  0.211157 -0.777731 -1.736711              1  \n",
       "515 -1.035533 -0.774382 -0.216315  0.515791  0.080575 -0.055548              0  \n",
       "516 -7.333036  0.377340  8.870354 -1.074288  2.382433  1.042850              0  \n",
       "\n",
       "[517 rows x 23 columns]"
      ]
     },
     "execution_count": 35,
     "metadata": {},
     "output_type": "execute_result"
    }
   ],
   "source": [
    "## We will choose 22 pcs out of 28 to do further process\n",
    "\n",
    "\n",
    "finaldf=pd.concat([pd.DataFrame(pca_values[:,0:22],columns=['pc1','pc2','pc3','pc4','pc5','pc6','pc7','pc8','pc9','pc10','pc11',\n",
    "                                                            'pc12','pc13','pc14','pc15','pc16','pc17','pc18','pc19','pc20',\n",
    "                                                            'pc21','pc22']),data[['size_category']]], axis = 1)\n",
    "finaldf.size_category.replace(('large','small'),(1,0),inplace=True)\n",
    "finaldf"
   ]
  },
  {
   "cell_type": "code",
   "execution_count": 36,
   "id": "a426e082",
   "metadata": {
    "ExecuteTime": {
     "end_time": "2021-08-30T12:05:36.261476Z",
     "start_time": "2021-08-30T12:05:36.157465Z"
    }
   },
   "outputs": [],
   "source": [
    "#Split the data into x and y\n",
    "array=finaldf.values\n",
    "x=array[:,0:22]\n",
    "y=array[:,22]"
   ]
  },
  {
   "cell_type": "code",
   "execution_count": 37,
   "id": "a5932758",
   "metadata": {
    "ExecuteTime": {
     "end_time": "2021-08-30T12:05:36.597407Z",
     "start_time": "2021-08-30T12:05:36.261476Z"
    }
   },
   "outputs": [],
   "source": [
    "## Creating model\n",
    "model = Sequential()\n",
    "model.add(Dense(40, input_dim=22, activation='relu'))\n",
    "model.add(Dense(11, activation='relu'))\n",
    "model.add(Dense(1, activation='sigmoid'))"
   ]
  },
  {
   "cell_type": "code",
   "execution_count": 38,
   "id": "932232d9",
   "metadata": {
    "ExecuteTime": {
     "end_time": "2021-08-30T12:05:36.661397Z",
     "start_time": "2021-08-30T12:05:36.597407Z"
    }
   },
   "outputs": [],
   "source": [
    "# Compile model\n",
    "model.compile(loss='binary_crossentropy', optimizer='adam', metrics=['accuracy'])"
   ]
  },
  {
   "cell_type": "code",
   "execution_count": 39,
   "id": "deb698a8",
   "metadata": {
    "ExecuteTime": {
     "end_time": "2021-08-30T12:05:49.414427Z",
     "start_time": "2021-08-30T12:05:36.661397Z"
    }
   },
   "outputs": [
    {
     "name": "stdout",
     "output_type": "stream",
     "text": [
      "Epoch 1/100\n",
      "37/37 [==============================] - 1s 8ms/step - loss: 0.6560 - accuracy: 0.6454 - val_loss: 0.6806 - val_accuracy: 0.6603\n",
      "Epoch 2/100\n",
      "37/37 [==============================] - 0s 3ms/step - loss: 0.5703 - accuracy: 0.7507 - val_loss: 0.6810 - val_accuracy: 0.6731\n",
      "Epoch 3/100\n",
      "37/37 [==============================] - 0s 4ms/step - loss: 0.5371 - accuracy: 0.7701 - val_loss: 0.6869 - val_accuracy: 0.6731\n",
      "Epoch 4/100\n",
      "37/37 [==============================] - 0s 3ms/step - loss: 0.5155 - accuracy: 0.7812 - val_loss: 0.6873 - val_accuracy: 0.6731\n",
      "Epoch 5/100\n",
      "37/37 [==============================] - 0s 3ms/step - loss: 0.5013 - accuracy: 0.7812 - val_loss: 0.6935 - val_accuracy: 0.6731\n",
      "Epoch 6/100\n",
      "37/37 [==============================] - 0s 3ms/step - loss: 0.4872 - accuracy: 0.7812 - val_loss: 0.6950 - val_accuracy: 0.6795\n",
      "Epoch 7/100\n",
      "37/37 [==============================] - 0s 3ms/step - loss: 0.4775 - accuracy: 0.7784 - val_loss: 0.6941 - val_accuracy: 0.6859\n",
      "Epoch 8/100\n",
      "37/37 [==============================] - 0s 3ms/step - loss: 0.4678 - accuracy: 0.7784 - val_loss: 0.6971 - val_accuracy: 0.6859\n",
      "Epoch 9/100\n",
      "37/37 [==============================] - 0s 3ms/step - loss: 0.4569 - accuracy: 0.7839 - val_loss: 0.6905 - val_accuracy: 0.6859\n",
      "Epoch 10/100\n",
      "37/37 [==============================] - 0s 3ms/step - loss: 0.4489 - accuracy: 0.7867 - val_loss: 0.6906 - val_accuracy: 0.6859\n",
      "Epoch 11/100\n",
      "37/37 [==============================] - 0s 3ms/step - loss: 0.4393 - accuracy: 0.7867 - val_loss: 0.6854 - val_accuracy: 0.6923\n",
      "Epoch 12/100\n",
      "37/37 [==============================] - 0s 3ms/step - loss: 0.4307 - accuracy: 0.7950 - val_loss: 0.6865 - val_accuracy: 0.6923\n",
      "Epoch 13/100\n",
      "37/37 [==============================] - 0s 3ms/step - loss: 0.4225 - accuracy: 0.7978 - val_loss: 0.6934 - val_accuracy: 0.6923\n",
      "Epoch 14/100\n",
      "37/37 [==============================] - 0s 3ms/step - loss: 0.4107 - accuracy: 0.8006 - val_loss: 0.6817 - val_accuracy: 0.7051\n",
      "Epoch 15/100\n",
      "37/37 [==============================] - 0s 3ms/step - loss: 0.3988 - accuracy: 0.8089 - val_loss: 0.6786 - val_accuracy: 0.7051\n",
      "Epoch 16/100\n",
      "37/37 [==============================] - 0s 3ms/step - loss: 0.3877 - accuracy: 0.8116 - val_loss: 0.6848 - val_accuracy: 0.7051\n",
      "Epoch 17/100\n",
      "37/37 [==============================] - 0s 3ms/step - loss: 0.3797 - accuracy: 0.8144 - val_loss: 0.6924 - val_accuracy: 0.7051\n",
      "Epoch 18/100\n",
      "37/37 [==============================] - 0s 3ms/step - loss: 0.3685 - accuracy: 0.8255 - val_loss: 0.6718 - val_accuracy: 0.7179\n",
      "Epoch 19/100\n",
      "37/37 [==============================] - 0s 3ms/step - loss: 0.3573 - accuracy: 0.8310 - val_loss: 0.6684 - val_accuracy: 0.7244\n",
      "Epoch 20/100\n",
      "37/37 [==============================] - 0s 3ms/step - loss: 0.3447 - accuracy: 0.8310 - val_loss: 0.6898 - val_accuracy: 0.7308\n",
      "Epoch 21/100\n",
      "37/37 [==============================] - 0s 3ms/step - loss: 0.3330 - accuracy: 0.8476 - val_loss: 0.6830 - val_accuracy: 0.7372\n",
      "Epoch 22/100\n",
      "37/37 [==============================] - 0s 3ms/step - loss: 0.3233 - accuracy: 0.8587 - val_loss: 0.6831 - val_accuracy: 0.7436\n",
      "Epoch 23/100\n",
      "37/37 [==============================] - 0s 3ms/step - loss: 0.3109 - accuracy: 0.8615 - val_loss: 0.6939 - val_accuracy: 0.7500\n",
      "Epoch 24/100\n",
      "37/37 [==============================] - 0s 3ms/step - loss: 0.3025 - accuracy: 0.8643 - val_loss: 0.6738 - val_accuracy: 0.7500\n",
      "Epoch 25/100\n",
      "37/37 [==============================] - 0s 3ms/step - loss: 0.2903 - accuracy: 0.8837 - val_loss: 0.6745 - val_accuracy: 0.7500\n",
      "Epoch 26/100\n",
      "37/37 [==============================] - 0s 3ms/step - loss: 0.2848 - accuracy: 0.8781 - val_loss: 0.6616 - val_accuracy: 0.7500\n",
      "Epoch 27/100\n",
      "37/37 [==============================] - 0s 3ms/step - loss: 0.2752 - accuracy: 0.8753 - val_loss: 0.6760 - val_accuracy: 0.7500\n",
      "Epoch 28/100\n",
      "37/37 [==============================] - 0s 3ms/step - loss: 0.2634 - accuracy: 0.8781 - val_loss: 0.6767 - val_accuracy: 0.7564\n",
      "Epoch 29/100\n",
      "37/37 [==============================] - 0s 3ms/step - loss: 0.2558 - accuracy: 0.9030 - val_loss: 0.6807 - val_accuracy: 0.7564\n",
      "Epoch 30/100\n",
      "37/37 [==============================] - 0s 3ms/step - loss: 0.2457 - accuracy: 0.8837 - val_loss: 0.6601 - val_accuracy: 0.7756\n",
      "Epoch 31/100\n",
      "37/37 [==============================] - 0s 3ms/step - loss: 0.2361 - accuracy: 0.9030 - val_loss: 0.6597 - val_accuracy: 0.7692\n",
      "Epoch 32/100\n",
      "37/37 [==============================] - 0s 3ms/step - loss: 0.2289 - accuracy: 0.9114 - val_loss: 0.6648 - val_accuracy: 0.7628\n",
      "Epoch 33/100\n",
      "37/37 [==============================] - 0s 3ms/step - loss: 0.2185 - accuracy: 0.9197 - val_loss: 0.6665 - val_accuracy: 0.7692\n",
      "Epoch 34/100\n",
      "37/37 [==============================] - 0s 3ms/step - loss: 0.2114 - accuracy: 0.9141 - val_loss: 0.6665 - val_accuracy: 0.7756\n",
      "Epoch 35/100\n",
      "37/37 [==============================] - 0s 3ms/step - loss: 0.2037 - accuracy: 0.9197 - val_loss: 0.6420 - val_accuracy: 0.7821\n",
      "Epoch 36/100\n",
      "37/37 [==============================] - 0s 3ms/step - loss: 0.1994 - accuracy: 0.9224 - val_loss: 0.6639 - val_accuracy: 0.7692\n",
      "Epoch 37/100\n",
      "37/37 [==============================] - 0s 3ms/step - loss: 0.1925 - accuracy: 0.9280 - val_loss: 0.6583 - val_accuracy: 0.7885\n",
      "Epoch 38/100\n",
      "37/37 [==============================] - 0s 3ms/step - loss: 0.1853 - accuracy: 0.9224 - val_loss: 0.6427 - val_accuracy: 0.7885\n",
      "Epoch 39/100\n",
      "37/37 [==============================] - ETA: 0s - loss: 0.1846 - accuracy: 0.94 - 0s 3ms/step - loss: 0.1796 - accuracy: 0.9418 - val_loss: 0.6616 - val_accuracy: 0.7949\n",
      "Epoch 40/100\n",
      "37/37 [==============================] - 0s 3ms/step - loss: 0.1790 - accuracy: 0.9307 - val_loss: 0.6648 - val_accuracy: 0.7949\n",
      "Epoch 41/100\n",
      "37/37 [==============================] - 0s 3ms/step - loss: 0.1685 - accuracy: 0.9446 - val_loss: 0.6595 - val_accuracy: 0.8013\n",
      "Epoch 42/100\n",
      "37/37 [==============================] - 0s 3ms/step - loss: 0.1653 - accuracy: 0.9584 - val_loss: 0.6503 - val_accuracy: 0.8013\n",
      "Epoch 43/100\n",
      "37/37 [==============================] - 0s 3ms/step - loss: 0.1569 - accuracy: 0.9363 - val_loss: 0.6616 - val_accuracy: 0.8013\n",
      "Epoch 44/100\n",
      "37/37 [==============================] - 0s 3ms/step - loss: 0.1526 - accuracy: 0.9474 - val_loss: 0.6736 - val_accuracy: 0.8077\n",
      "Epoch 45/100\n",
      "37/37 [==============================] - 0s 3ms/step - loss: 0.1438 - accuracy: 0.9529 - val_loss: 0.6719 - val_accuracy: 0.7885\n",
      "Epoch 46/100\n",
      "37/37 [==============================] - 0s 3ms/step - loss: 0.1398 - accuracy: 0.9474 - val_loss: 0.6704 - val_accuracy: 0.7949\n",
      "Epoch 47/100\n",
      "37/37 [==============================] - 0s 3ms/step - loss: 0.1358 - accuracy: 0.9640 - val_loss: 0.6813 - val_accuracy: 0.8013\n",
      "Epoch 48/100\n",
      "37/37 [==============================] - 0s 3ms/step - loss: 0.1310 - accuracy: 0.9584 - val_loss: 0.6744 - val_accuracy: 0.8077\n",
      "Epoch 49/100\n",
      "37/37 [==============================] - 0s 3ms/step - loss: 0.1263 - accuracy: 0.9640 - val_loss: 0.6961 - val_accuracy: 0.8269\n",
      "Epoch 50/100\n",
      "37/37 [==============================] - 0s 3ms/step - loss: 0.1250 - accuracy: 0.9612 - val_loss: 0.6849 - val_accuracy: 0.8205\n",
      "Epoch 51/100\n",
      "37/37 [==============================] - 0s 3ms/step - loss: 0.1221 - accuracy: 0.9584 - val_loss: 0.6911 - val_accuracy: 0.8077\n",
      "Epoch 52/100\n",
      "37/37 [==============================] - 0s 3ms/step - loss: 0.1175 - accuracy: 0.9612 - val_loss: 0.6975 - val_accuracy: 0.8141\n",
      "Epoch 53/100\n",
      "37/37 [==============================] - 0s 3ms/step - loss: 0.1128 - accuracy: 0.9668 - val_loss: 0.6780 - val_accuracy: 0.8141\n",
      "Epoch 54/100\n",
      "37/37 [==============================] - 0s 3ms/step - loss: 0.1084 - accuracy: 0.9723 - val_loss: 0.6847 - val_accuracy: 0.8205\n",
      "Epoch 55/100\n",
      "37/37 [==============================] - 0s 3ms/step - loss: 0.1100 - accuracy: 0.9723 - val_loss: 0.7106 - val_accuracy: 0.8141\n",
      "Epoch 56/100\n",
      "37/37 [==============================] - 0s 3ms/step - loss: 0.1063 - accuracy: 0.9695 - val_loss: 0.7026 - val_accuracy: 0.8141\n",
      "Epoch 57/100\n",
      "37/37 [==============================] - 0s 3ms/step - loss: 0.1043 - accuracy: 0.9668 - val_loss: 0.7008 - val_accuracy: 0.8205\n",
      "Epoch 58/100\n",
      "37/37 [==============================] - 0s 3ms/step - loss: 0.1073 - accuracy: 0.9695 - val_loss: 0.7039 - val_accuracy: 0.7949\n",
      "Epoch 59/100\n",
      "37/37 [==============================] - 0s 3ms/step - loss: 0.0957 - accuracy: 0.9751 - val_loss: 0.7087 - val_accuracy: 0.8141\n",
      "Epoch 60/100\n",
      "37/37 [==============================] - 0s 3ms/step - loss: 0.0922 - accuracy: 0.9778 - val_loss: 0.7183 - val_accuracy: 0.8205\n",
      "Epoch 61/100\n",
      "37/37 [==============================] - 0s 3ms/step - loss: 0.0891 - accuracy: 0.9806 - val_loss: 0.7178 - val_accuracy: 0.8269\n",
      "Epoch 62/100\n",
      "37/37 [==============================] - 0s 4ms/step - loss: 0.0847 - accuracy: 0.9751 - val_loss: 0.7202 - val_accuracy: 0.8205\n",
      "Epoch 63/100\n",
      "37/37 [==============================] - 0s 4ms/step - loss: 0.0842 - accuracy: 0.9778 - val_loss: 0.7177 - val_accuracy: 0.8269\n",
      "Epoch 64/100\n",
      "37/37 [==============================] - 0s 3ms/step - loss: 0.0795 - accuracy: 0.9778 - val_loss: 0.7238 - val_accuracy: 0.8333\n",
      "Epoch 65/100\n",
      "37/37 [==============================] - 0s 3ms/step - loss: 0.0779 - accuracy: 0.9778 - val_loss: 0.7525 - val_accuracy: 0.8205\n",
      "Epoch 66/100\n",
      "37/37 [==============================] - 0s 4ms/step - loss: 0.0746 - accuracy: 0.9806 - val_loss: 0.7416 - val_accuracy: 0.8205\n",
      "Epoch 67/100\n",
      "37/37 [==============================] - 0s 3ms/step - loss: 0.0772 - accuracy: 0.9778 - val_loss: 0.7408 - val_accuracy: 0.8141\n",
      "Epoch 68/100\n",
      "37/37 [==============================] - 0s 4ms/step - loss: 0.0705 - accuracy: 0.9834 - val_loss: 0.7451 - val_accuracy: 0.8462\n",
      "Epoch 69/100\n",
      "37/37 [==============================] - 0s 4ms/step - loss: 0.0720 - accuracy: 0.9778 - val_loss: 0.7720 - val_accuracy: 0.8205\n",
      "Epoch 70/100\n",
      "37/37 [==============================] - 0s 3ms/step - loss: 0.0695 - accuracy: 0.9751 - val_loss: 0.7625 - val_accuracy: 0.8269\n",
      "Epoch 71/100\n",
      "37/37 [==============================] - 0s 3ms/step - loss: 0.0639 - accuracy: 0.9806 - val_loss: 0.7602 - val_accuracy: 0.8205\n",
      "Epoch 72/100\n",
      "37/37 [==============================] - 0s 4ms/step - loss: 0.0698 - accuracy: 0.9751 - val_loss: 0.7726 - val_accuracy: 0.8205\n",
      "Epoch 73/100\n",
      "37/37 [==============================] - 0s 4ms/step - loss: 0.0652 - accuracy: 0.9834 - val_loss: 0.7588 - val_accuracy: 0.8526\n",
      "Epoch 74/100\n",
      "37/37 [==============================] - 0s 3ms/step - loss: 0.0633 - accuracy: 0.9806 - val_loss: 0.7943 - val_accuracy: 0.8013\n",
      "Epoch 75/100\n",
      "37/37 [==============================] - 0s 3ms/step - loss: 0.0613 - accuracy: 0.9806 - val_loss: 0.7829 - val_accuracy: 0.8013\n",
      "Epoch 76/100\n",
      "37/37 [==============================] - 0s 3ms/step - loss: 0.0603 - accuracy: 0.9861 - val_loss: 0.7887 - val_accuracy: 0.8269\n",
      "Epoch 77/100\n",
      "37/37 [==============================] - 0s 3ms/step - loss: 0.0558 - accuracy: 0.9834 - val_loss: 0.7957 - val_accuracy: 0.8141\n",
      "Epoch 78/100\n",
      "37/37 [==============================] - 0s 4ms/step - loss: 0.0555 - accuracy: 0.9834 - val_loss: 0.8020 - val_accuracy: 0.8141\n",
      "Epoch 79/100\n",
      "37/37 [==============================] - 0s 4ms/step - loss: 0.0515 - accuracy: 0.9834 - val_loss: 0.8106 - val_accuracy: 0.8205\n",
      "Epoch 80/100\n",
      "37/37 [==============================] - 0s 3ms/step - loss: 0.0489 - accuracy: 0.9889 - val_loss: 0.8063 - val_accuracy: 0.8141\n",
      "Epoch 81/100\n",
      "37/37 [==============================] - 0s 3ms/step - loss: 0.0578 - accuracy: 0.9861 - val_loss: 0.8057 - val_accuracy: 0.8141\n",
      "Epoch 82/100\n",
      "37/37 [==============================] - 0s 3ms/step - loss: 0.0507 - accuracy: 0.9806 - val_loss: 0.8259 - val_accuracy: 0.8141\n",
      "Epoch 83/100\n",
      "37/37 [==============================] - 0s 3ms/step - loss: 0.0473 - accuracy: 0.9861 - val_loss: 0.8226 - val_accuracy: 0.8205\n",
      "Epoch 84/100\n",
      "37/37 [==============================] - 0s 3ms/step - loss: 0.0489 - accuracy: 0.9806 - val_loss: 0.8504 - val_accuracy: 0.8141\n",
      "Epoch 85/100\n",
      "37/37 [==============================] - 0s 3ms/step - loss: 0.0517 - accuracy: 0.9861 - val_loss: 0.8267 - val_accuracy: 0.8205\n",
      "Epoch 86/100\n",
      "37/37 [==============================] - 0s 3ms/step - loss: 0.0423 - accuracy: 0.9917 - val_loss: 0.8509 - val_accuracy: 0.8205\n",
      "Epoch 87/100\n",
      "37/37 [==============================] - 0s 3ms/step - loss: 0.0426 - accuracy: 0.9945 - val_loss: 0.8329 - val_accuracy: 0.8205\n",
      "Epoch 88/100\n",
      "37/37 [==============================] - 0s 3ms/step - loss: 0.0437 - accuracy: 0.9917 - val_loss: 0.8377 - val_accuracy: 0.8205\n",
      "Epoch 89/100\n",
      "37/37 [==============================] - 0s 2ms/step - loss: 0.0427 - accuracy: 0.9917 - val_loss: 0.8438 - val_accuracy: 0.8333\n",
      "Epoch 90/100\n",
      "37/37 [==============================] - 0s 3ms/step - loss: 0.0419 - accuracy: 0.9917 - val_loss: 0.8461 - val_accuracy: 0.8333\n",
      "Epoch 91/100\n",
      "37/37 [==============================] - 0s 3ms/step - loss: 0.0378 - accuracy: 0.9917 - val_loss: 0.8628 - val_accuracy: 0.8205\n",
      "Epoch 92/100\n",
      "37/37 [==============================] - 0s 3ms/step - loss: 0.0384 - accuracy: 0.9889 - val_loss: 0.8730 - val_accuracy: 0.8141\n",
      "Epoch 93/100\n",
      "37/37 [==============================] - 0s 3ms/step - loss: 0.0510 - accuracy: 0.9889 - val_loss: 0.8417 - val_accuracy: 0.8333\n",
      "Epoch 94/100\n",
      "37/37 [==============================] - 0s 3ms/step - loss: 0.0412 - accuracy: 0.9861 - val_loss: 0.8804 - val_accuracy: 0.8333\n",
      "Epoch 95/100\n",
      "37/37 [==============================] - 0s 3ms/step - loss: 0.0358 - accuracy: 0.9917 - val_loss: 0.8843 - val_accuracy: 0.8077\n",
      "Epoch 96/100\n",
      "37/37 [==============================] - 0s 3ms/step - loss: 0.0357 - accuracy: 0.9917 - val_loss: 0.8905 - val_accuracy: 0.8141\n",
      "Epoch 97/100\n",
      "37/37 [==============================] - 0s 3ms/step - loss: 0.0342 - accuracy: 0.9889 - val_loss: 0.9052 - val_accuracy: 0.8141\n",
      "Epoch 98/100\n",
      "37/37 [==============================] - 0s 3ms/step - loss: 0.0355 - accuracy: 0.9945 - val_loss: 0.9306 - val_accuracy: 0.8141\n",
      "Epoch 99/100\n",
      "37/37 [==============================] - 0s 3ms/step - loss: 0.0356 - accuracy: 0.9917 - val_loss: 0.9142 - val_accuracy: 0.8269\n",
      "Epoch 100/100\n",
      "37/37 [==============================] - 0s 3ms/step - loss: 0.0357 - accuracy: 0.9917 - val_loss: 0.9213 - val_accuracy: 0.8205\n"
     ]
    }
   ],
   "source": [
    "# Fit the model #30% of test data\n",
    "history=model.fit(x, y, validation_split=0.3, epochs=100, batch_size=10)"
   ]
  },
  {
   "cell_type": "code",
   "execution_count": 40,
   "id": "c3aa67af",
   "metadata": {
    "ExecuteTime": {
     "end_time": "2021-08-30T12:05:49.536385Z",
     "start_time": "2021-08-30T12:05:49.416392Z"
    }
   },
   "outputs": [
    {
     "name": "stdout",
     "output_type": "stream",
     "text": [
      "17/17 [==============================] - 0s 1ms/step - loss: 0.2964 - accuracy: 0.9439\n",
      "accuracy: 94.39%\n"
     ]
    }
   ],
   "source": [
    "# evaluate the model\n",
    "scores = model.evaluate(x, y)\n",
    "print(\"%s: %.2f%%\" % (model.metrics_names[1], scores[1]*100))"
   ]
  },
  {
   "cell_type": "code",
   "execution_count": 41,
   "id": "3907050e",
   "metadata": {
    "ExecuteTime": {
     "end_time": "2021-08-30T12:05:49.651071Z",
     "start_time": "2021-08-30T12:05:49.544383Z"
    }
   },
   "outputs": [
    {
     "data": {
      "text/plain": [
       "dict_keys(['loss', 'accuracy', 'val_loss', 'val_accuracy'])"
      ]
     },
     "execution_count": 41,
     "metadata": {},
     "output_type": "execute_result"
    }
   ],
   "source": [
    "history.history.keys()"
   ]
  },
  {
   "cell_type": "code",
   "execution_count": 42,
   "id": "30cf056e",
   "metadata": {
    "ExecuteTime": {
     "end_time": "2021-08-30T12:05:50.091008Z",
     "start_time": "2021-08-30T12:05:49.651071Z"
    }
   },
   "outputs": [
    {
     "data": {
      "image/png": "[encoded data removed]",
      "text/plain": [
       "<Figure size 432x288 with 1 Axes>"
      ]
     },
     "metadata": {
      "needs_background": "light"
     },
     "output_type": "display_data"
    }
   ],
   "source": [
    "# summarize history for accuracy\n",
    "import matplotlib.pyplot as plt\n",
    "%matplotlib inline\n",
    "plt.plot(history.history['accuracy'])\n",
    "plt.plot(history.history['val_accuracy'])\n",
    "plt.title('model accuracy')\n",
    "plt.ylabel('accuracy')\n",
    "plt.xlabel('epoch')\n",
    "plt.legend(['train', 'test'], loc='upper left')\n",
    "plt.show()"
   ]
  },
  {
   "cell_type": "code",
   "execution_count": null,
   "id": "0e9cfb8b",
   "metadata": {},
   "outputs": [],
   "source": []
  }
 ],
 "metadata": {
  "kernelspec": {
   "display_name": "Python 3",
   "language": "python",
   "name": "python3"
  },
  "language_info": {
   "codemirror_mode": {
    "name": "ipython",
    "version": 3
   },
   "file_extension": ".py",
   "mimetype": "text/x-python",
   "name": "python",
   "nbconvert_exporter": "python",
   "pygments_lexer": "ipython3",
   "version": "3.8.8"
  },
  "toc": {
   "base_numbering": 1,
   "nav_menu": {},
   "number_sections": true,
   "sideBar": true,
   "skip_h1_title": false,
   "title_cell": "Table of Contents",
   "title_sidebar": "Contents",
   "toc_cell": false,
   "toc_position": {},
   "toc_section_display": true,
   "toc_window_display": false
  },
  "varInspector": {
   "cols": {
    "lenName": 16,
    "lenType": 16,
    "lenVar": 40
   },
   "kernels_config": {
    "python": {
     "delete_cmd_postfix": "",
     "delete_cmd_prefix": "del ",
     "library": "var_list.py",
     "varRefreshCmd": "print(var_dic_list())"
    },
    "r": {
     "delete_cmd_postfix": ") ",
     "delete_cmd_prefix": "rm(",
     "library": "var_list.r",
     "varRefreshCmd": "cat(var_dic_list()) "
    }
   },
   "types_to_exclude": [
    "module",
    "function",
    "builtin_function_or_method",
    "instance",
    "_Feature"
   ],
   "window_display": false
  }
 },
 "nbformat": 4,
 "nbformat_minor": 5
}
