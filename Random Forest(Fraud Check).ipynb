{
 "cells": [
  {
   "cell_type": "markdown",
   "id": "8aec8b10",
   "metadata": {},
   "source": [
    "# Random Forest(Fraud Check)"
   ]
  },
  {
   "cell_type": "markdown",
   "id": "83c14eba",
   "metadata": {},
   "source": [
    "Use Random Forest to prepare a model on fraud data \n",
    "treating those who have taxable_income <= 30000 as \"Risky\" and others are \"Good\""
   ]
  },
  {
   "cell_type": "code",
   "execution_count": 77,
   "id": "578115f4",
   "metadata": {
    "ExecuteTime": {
     "end_time": "2021-08-29T21:32:24.191385Z",
     "start_time": "2021-08-29T21:32:24.179392Z"
    }
   },
   "outputs": [],
   "source": [
    "#importing necessary libraries\n",
    "import pandas as pd\n",
    "import matplotlib.pyplot as plt"
   ]
  },
  {
   "cell_type": "code",
   "execution_count": 78,
   "id": "2125b74d",
   "metadata": {
    "ExecuteTime": {
     "end_time": "2021-08-29T21:32:24.333306Z",
     "start_time": "2021-08-29T21:32:24.194387Z"
    }
   },
   "outputs": [],
   "source": [
    "df = pd.read_csv(\"Fraud_check.csv\")"
   ]
  },
  {
   "cell_type": "code",
   "execution_count": 79,
   "id": "6ab33022",
   "metadata": {
    "ExecuteTime": {
     "end_time": "2021-08-29T21:32:24.476225Z",
     "start_time": "2021-08-29T21:32:24.338301Z"
    }
   },
   "outputs": [
    {
     "data": {
      "text/html": [
       "<div>\n",
       "<style scoped>\n",
       "    .dataframe tbody tr th:only-of-type {\n",
       "        vertical-align: middle;\n",
       "    }\n",
       "\n",
       "    .dataframe tbody tr th {\n",
       "        vertical-align: top;\n",
       "    }\n",
       "\n",
       "    .dataframe thead th {\n",
       "        text-align: right;\n",
       "    }\n",
       "</style>\n",
       "<table border=\"1\" class=\"dataframe\">\n",
       "  <thead>\n",
       "    <tr style=\"text-align: right;\">\n",
       "      <th></th>\n",
       "      <th>Undergrad</th>\n",
       "      <th>Marital.Status</th>\n",
       "      <th>Taxable.Income</th>\n",
       "      <th>City.Population</th>\n",
       "      <th>Work.Experience</th>\n",
       "      <th>Urban</th>\n",
       "    </tr>\n",
       "  </thead>\n",
       "  <tbody>\n",
       "    <tr>\n",
       "      <th>0</th>\n",
       "      <td>NO</td>\n",
       "      <td>Single</td>\n",
       "      <td>68833</td>\n",
       "      <td>50047</td>\n",
       "      <td>10</td>\n",
       "      <td>YES</td>\n",
       "    </tr>\n",
       "    <tr>\n",
       "      <th>1</th>\n",
       "      <td>YES</td>\n",
       "      <td>Divorced</td>\n",
       "      <td>33700</td>\n",
       "      <td>134075</td>\n",
       "      <td>18</td>\n",
       "      <td>YES</td>\n",
       "    </tr>\n",
       "    <tr>\n",
       "      <th>2</th>\n",
       "      <td>NO</td>\n",
       "      <td>Married</td>\n",
       "      <td>36925</td>\n",
       "      <td>160205</td>\n",
       "      <td>30</td>\n",
       "      <td>YES</td>\n",
       "    </tr>\n",
       "    <tr>\n",
       "      <th>3</th>\n",
       "      <td>YES</td>\n",
       "      <td>Single</td>\n",
       "      <td>50190</td>\n",
       "      <td>193264</td>\n",
       "      <td>15</td>\n",
       "      <td>YES</td>\n",
       "    </tr>\n",
       "    <tr>\n",
       "      <th>4</th>\n",
       "      <td>NO</td>\n",
       "      <td>Married</td>\n",
       "      <td>81002</td>\n",
       "      <td>27533</td>\n",
       "      <td>28</td>\n",
       "      <td>NO</td>\n",
       "    </tr>\n",
       "  </tbody>\n",
       "</table>\n",
       "</div>"
      ],
      "text/plain": [
       "  Undergrad Marital.Status  Taxable.Income  City.Population  Work.Experience  \\\n",
       "0        NO         Single           68833            50047               10   \n",
       "1       YES       Divorced           33700           134075               18   \n",
       "2        NO        Married           36925           160205               30   \n",
       "3       YES         Single           50190           193264               15   \n",
       "4        NO        Married           81002            27533               28   \n",
       "\n",
       "  Urban  \n",
       "0   YES  \n",
       "1   YES  \n",
       "2   YES  \n",
       "3   YES  \n",
       "4    NO  "
      ]
     },
     "execution_count": 79,
     "metadata": {},
     "output_type": "execute_result"
    }
   ],
   "source": [
    "#Viewing top 5 rows of dataframe\n",
    "df.head()"
   ]
  },
  {
   "cell_type": "code",
   "execution_count": 80,
   "id": "76d7da56",
   "metadata": {
    "ExecuteTime": {
     "end_time": "2021-08-29T21:32:24.615431Z",
     "start_time": "2021-08-29T21:32:24.528193Z"
    }
   },
   "outputs": [
    {
     "data": {
      "text/plain": [
       "(600, 6)"
      ]
     },
     "execution_count": 80,
     "metadata": {},
     "output_type": "execute_result"
    }
   ],
   "source": [
    "df.shape"
   ]
  },
  {
   "cell_type": "code",
   "execution_count": 81,
   "id": "223f9537",
   "metadata": {
    "ExecuteTime": {
     "end_time": "2021-08-29T21:32:24.866487Z",
     "start_time": "2021-08-29T21:32:24.618434Z"
    }
   },
   "outputs": [
    {
     "data": {
      "text/plain": [
       "Undergrad          0\n",
       "Marital.Status     0\n",
       "Taxable.Income     0\n",
       "City.Population    0\n",
       "Work.Experience    0\n",
       "Urban              0\n",
       "dtype: int64"
      ]
     },
     "execution_count": 81,
     "metadata": {},
     "output_type": "execute_result"
    }
   ],
   "source": [
    "df.isnull().sum()"
   ]
  },
  {
   "cell_type": "code",
   "execution_count": 82,
   "id": "88a937ff",
   "metadata": {
    "ExecuteTime": {
     "end_time": "2021-08-29T21:32:25.101156Z",
     "start_time": "2021-08-29T21:32:24.870487Z"
    }
   },
   "outputs": [],
   "source": [
    "df['Undergrad'] = df['Undergrad'].apply(lambda x: 1 if x=='YES' else 0)\n",
    "df['Urban'] = df['Urban'].apply(lambda x: 1 if x=='YES' else 0)\n",
    "df['Taxable.Income'] = df['Taxable.Income'].apply(lambda x: 'Risky' if x>30000  else 'Good')"
   ]
  },
  {
   "cell_type": "code",
   "execution_count": 83,
   "id": "31834536",
   "metadata": {
    "ExecuteTime": {
     "end_time": "2021-08-29T21:32:25.226989Z",
     "start_time": "2021-08-29T21:32:25.104153Z"
    }
   },
   "outputs": [
    {
     "data": {
      "text/plain": [
       "Single      217\n",
       "Married     194\n",
       "Divorced    189\n",
       "Name: Marital.Status, dtype: int64"
      ]
     },
     "execution_count": 83,
     "metadata": {},
     "output_type": "execute_result"
    }
   ],
   "source": [
    "df['Marital.Status'].value_counts()"
   ]
  },
  {
   "cell_type": "code",
   "execution_count": 84,
   "id": "c9cfd545",
   "metadata": {
    "ExecuteTime": {
     "end_time": "2021-08-29T21:32:25.512222Z",
     "start_time": "2021-08-29T21:32:25.232985Z"
    }
   },
   "outputs": [],
   "source": [
    "df['Marital.Status'] = df['Marital.Status'].map({'Single':1, 'Married':2, 'Divorced':3})"
   ]
  },
  {
   "cell_type": "code",
   "execution_count": 85,
   "id": "842fbcbf",
   "metadata": {
    "ExecuteTime": {
     "end_time": "2021-08-29T21:32:25.606721Z",
     "start_time": "2021-08-29T21:32:25.518215Z"
    }
   },
   "outputs": [
    {
     "data": {
      "text/html": [
       "<div>\n",
       "<style scoped>\n",
       "    .dataframe tbody tr th:only-of-type {\n",
       "        vertical-align: middle;\n",
       "    }\n",
       "\n",
       "    .dataframe tbody tr th {\n",
       "        vertical-align: top;\n",
       "    }\n",
       "\n",
       "    .dataframe thead th {\n",
       "        text-align: right;\n",
       "    }\n",
       "</style>\n",
       "<table border=\"1\" class=\"dataframe\">\n",
       "  <thead>\n",
       "    <tr style=\"text-align: right;\">\n",
       "      <th></th>\n",
       "      <th>Undergrad</th>\n",
       "      <th>Marital.Status</th>\n",
       "      <th>Taxable.Income</th>\n",
       "      <th>City.Population</th>\n",
       "      <th>Work.Experience</th>\n",
       "      <th>Urban</th>\n",
       "    </tr>\n",
       "  </thead>\n",
       "  <tbody>\n",
       "    <tr>\n",
       "      <th>0</th>\n",
       "      <td>0</td>\n",
       "      <td>1</td>\n",
       "      <td>Risky</td>\n",
       "      <td>50047</td>\n",
       "      <td>10</td>\n",
       "      <td>1</td>\n",
       "    </tr>\n",
       "    <tr>\n",
       "      <th>1</th>\n",
       "      <td>1</td>\n",
       "      <td>3</td>\n",
       "      <td>Risky</td>\n",
       "      <td>134075</td>\n",
       "      <td>18</td>\n",
       "      <td>1</td>\n",
       "    </tr>\n",
       "    <tr>\n",
       "      <th>2</th>\n",
       "      <td>0</td>\n",
       "      <td>2</td>\n",
       "      <td>Risky</td>\n",
       "      <td>160205</td>\n",
       "      <td>30</td>\n",
       "      <td>1</td>\n",
       "    </tr>\n",
       "    <tr>\n",
       "      <th>3</th>\n",
       "      <td>1</td>\n",
       "      <td>1</td>\n",
       "      <td>Risky</td>\n",
       "      <td>193264</td>\n",
       "      <td>15</td>\n",
       "      <td>1</td>\n",
       "    </tr>\n",
       "    <tr>\n",
       "      <th>4</th>\n",
       "      <td>0</td>\n",
       "      <td>2</td>\n",
       "      <td>Risky</td>\n",
       "      <td>27533</td>\n",
       "      <td>28</td>\n",
       "      <td>0</td>\n",
       "    </tr>\n",
       "  </tbody>\n",
       "</table>\n",
       "</div>"
      ],
      "text/plain": [
       "   Undergrad  Marital.Status Taxable.Income  City.Population  Work.Experience  \\\n",
       "0          0               1          Risky            50047               10   \n",
       "1          1               3          Risky           134075               18   \n",
       "2          0               2          Risky           160205               30   \n",
       "3          1               1          Risky           193264               15   \n",
       "4          0               2          Risky            27533               28   \n",
       "\n",
       "   Urban  \n",
       "0      1  \n",
       "1      1  \n",
       "2      1  \n",
       "3      1  \n",
       "4      0  "
      ]
     },
     "execution_count": 85,
     "metadata": {},
     "output_type": "execute_result"
    }
   ],
   "source": [
    "df.head()"
   ]
  },
  {
   "cell_type": "code",
   "execution_count": 86,
   "id": "e1e54b02",
   "metadata": {
    "ExecuteTime": {
     "end_time": "2021-08-29T21:32:25.704776Z",
     "start_time": "2021-08-29T21:32:25.611715Z"
    }
   },
   "outputs": [
    {
     "data": {
      "text/plain": [
       "1    217\n",
       "2    194\n",
       "3    189\n",
       "Name: Marital.Status, dtype: int64"
      ]
     },
     "execution_count": 86,
     "metadata": {},
     "output_type": "execute_result"
    }
   ],
   "source": [
    "df['Marital.Status'].value_counts()"
   ]
  },
  {
   "cell_type": "code",
   "execution_count": 87,
   "id": "ac332296",
   "metadata": {
    "ExecuteTime": {
     "end_time": "2021-08-29T21:32:25.811641Z",
     "start_time": "2021-08-29T21:32:25.710764Z"
    }
   },
   "outputs": [],
   "source": [
    "import seaborn as sns"
   ]
  },
  {
   "cell_type": "code",
   "execution_count": 88,
   "id": "71deacaa",
   "metadata": {
    "ExecuteTime": {
     "end_time": "2021-08-29T21:32:25.921476Z",
     "start_time": "2021-08-29T21:32:25.814586Z"
    }
   },
   "outputs": [],
   "source": [
    "## riskey = 0 , good = 1\n",
    "df['Taxable.Income'] = df['Taxable.Income'].apply(lambda x: 0 if x== 'Risky'  else 1)"
   ]
  },
  {
   "cell_type": "code",
   "execution_count": 89,
   "id": "ec3ad81d",
   "metadata": {
    "ExecuteTime": {
     "end_time": "2021-08-29T21:32:26.000409Z",
     "start_time": "2021-08-29T21:32:25.923469Z"
    }
   },
   "outputs": [],
   "source": [
    "## Train test the data\n",
    "train = df.drop('Taxable.Income',axis=1)\n",
    "test = df['Taxable.Income']"
   ]
  },
  {
   "cell_type": "code",
   "execution_count": 90,
   "id": "fe9899c0",
   "metadata": {
    "ExecuteTime": {
     "end_time": "2021-08-29T21:32:26.110200Z",
     "start_time": "2021-08-29T21:32:26.005406Z"
    }
   },
   "outputs": [],
   "source": [
    "## train test split\n",
    "from sklearn.model_selection import train_test_split"
   ]
  },
  {
   "cell_type": "code",
   "execution_count": 91,
   "id": "41a72e5e",
   "metadata": {
    "ExecuteTime": {
     "end_time": "2021-08-29T21:32:26.236400Z",
     "start_time": "2021-08-29T21:32:26.112201Z"
    }
   },
   "outputs": [],
   "source": [
    "X_train, X_test, y_train, y_test = train_test_split(train, test, test_size = 0.3,random_state = 1)"
   ]
  },
  {
   "cell_type": "markdown",
   "id": "c2192a96",
   "metadata": {},
   "source": [
    "# Standardize the Data"
   ]
  },
  {
   "cell_type": "code",
   "execution_count": 92,
   "id": "bd470916",
   "metadata": {
    "ExecuteTime": {
     "end_time": "2021-08-29T21:32:26.345197Z",
     "start_time": "2021-08-29T21:32:26.242400Z"
    }
   },
   "outputs": [],
   "source": [
    "from sklearn.preprocessing import StandardScaler"
   ]
  },
  {
   "cell_type": "code",
   "execution_count": 93,
   "id": "213c9c69",
   "metadata": {
    "ExecuteTime": {
     "end_time": "2021-08-29T21:32:26.452944Z",
     "start_time": "2021-08-29T21:32:26.349193Z"
    }
   },
   "outputs": [],
   "source": [
    "scaler = StandardScaler()"
   ]
  },
  {
   "cell_type": "code",
   "execution_count": 94,
   "id": "968a16a2",
   "metadata": {
    "ExecuteTime": {
     "end_time": "2021-08-29T21:32:26.796497Z",
     "start_time": "2021-08-29T21:32:26.489928Z"
    }
   },
   "outputs": [],
   "source": [
    "col = X_train.columns\n",
    "X_train = scaler.fit_transform(X_train)\n",
    "X_test = scaler.fit_transform(X_test)"
   ]
  },
  {
   "cell_type": "code",
   "execution_count": 95,
   "id": "af87ceab",
   "metadata": {
    "ExecuteTime": {
     "end_time": "2021-08-29T21:32:26.938466Z",
     "start_time": "2021-08-29T21:32:26.799440Z"
    }
   },
   "outputs": [],
   "source": [
    "X_train = pd.DataFrame(X_train, columns=col)\n",
    "X_test = pd.DataFrame(X_test, columns=col)"
   ]
  },
  {
   "cell_type": "code",
   "execution_count": 96,
   "id": "d051f3bb",
   "metadata": {
    "ExecuteTime": {
     "end_time": "2021-08-29T21:32:27.080055Z",
     "start_time": "2021-08-29T21:32:26.941463Z"
    }
   },
   "outputs": [
    {
     "data": {
      "text/plain": [
       "(420, 5)"
      ]
     },
     "execution_count": 96,
     "metadata": {},
     "output_type": "execute_result"
    }
   ],
   "source": [
    "X_train.shape"
   ]
  },
  {
   "cell_type": "code",
   "execution_count": 97,
   "id": "5064efe9",
   "metadata": {
    "ExecuteTime": {
     "end_time": "2021-08-29T21:32:27.206254Z",
     "start_time": "2021-08-29T21:32:27.082749Z"
    }
   },
   "outputs": [
    {
     "data": {
      "text/plain": [
       "(180, 5)"
      ]
     },
     "execution_count": 97,
     "metadata": {},
     "output_type": "execute_result"
    }
   ],
   "source": [
    "X_test.shape"
   ]
  },
  {
   "cell_type": "markdown",
   "id": "d482b8dd",
   "metadata": {},
   "source": [
    "# Build random forest"
   ]
  },
  {
   "cell_type": "code",
   "execution_count": 98,
   "id": "28d29780",
   "metadata": {
    "ExecuteTime": {
     "end_time": "2021-08-29T21:32:27.300377Z",
     "start_time": "2021-08-29T21:32:27.212250Z"
    }
   },
   "outputs": [],
   "source": [
    "from sklearn.ensemble import RandomForestClassifier"
   ]
  },
  {
   "cell_type": "code",
   "execution_count": 99,
   "id": "4ab092b1",
   "metadata": {
    "ExecuteTime": {
     "end_time": "2021-08-29T21:32:27.378809Z",
     "start_time": "2021-08-29T21:32:27.310339Z"
    }
   },
   "outputs": [
    {
     "data": {
      "text/html": [
       "<div>\n",
       "<style scoped>\n",
       "    .dataframe tbody tr th:only-of-type {\n",
       "        vertical-align: middle;\n",
       "    }\n",
       "\n",
       "    .dataframe tbody tr th {\n",
       "        vertical-align: top;\n",
       "    }\n",
       "\n",
       "    .dataframe thead th {\n",
       "        text-align: right;\n",
       "    }\n",
       "</style>\n",
       "<table border=\"1\" class=\"dataframe\">\n",
       "  <thead>\n",
       "    <tr style=\"text-align: right;\">\n",
       "      <th></th>\n",
       "      <th>Undergrad</th>\n",
       "      <th>Marital.Status</th>\n",
       "      <th>Taxable.Income</th>\n",
       "      <th>City.Population</th>\n",
       "      <th>Work.Experience</th>\n",
       "      <th>Urban</th>\n",
       "    </tr>\n",
       "  </thead>\n",
       "  <tbody>\n",
       "    <tr>\n",
       "      <th>0</th>\n",
       "      <td>0</td>\n",
       "      <td>1</td>\n",
       "      <td>0</td>\n",
       "      <td>50047</td>\n",
       "      <td>10</td>\n",
       "      <td>1</td>\n",
       "    </tr>\n",
       "    <tr>\n",
       "      <th>1</th>\n",
       "      <td>1</td>\n",
       "      <td>3</td>\n",
       "      <td>0</td>\n",
       "      <td>134075</td>\n",
       "      <td>18</td>\n",
       "      <td>1</td>\n",
       "    </tr>\n",
       "  </tbody>\n",
       "</table>\n",
       "</div>"
      ],
      "text/plain": [
       "   Undergrad  Marital.Status  Taxable.Income  City.Population  \\\n",
       "0          0               1               0            50047   \n",
       "1          1               3               0           134075   \n",
       "\n",
       "   Work.Experience  Urban  \n",
       "0               10      1  \n",
       "1               18      1  "
      ]
     },
     "execution_count": 99,
     "metadata": {},
     "output_type": "execute_result"
    }
   ],
   "source": [
    "df.head(2)"
   ]
  },
  {
   "cell_type": "code",
   "execution_count": 100,
   "id": "3a8cfa48",
   "metadata": {
    "ExecuteTime": {
     "end_time": "2021-08-29T21:32:27.488830Z",
     "start_time": "2021-08-29T21:32:27.386802Z"
    }
   },
   "outputs": [],
   "source": [
    "rf_model = RandomForestClassifier(n_estimators= 100)"
   ]
  },
  {
   "cell_type": "code",
   "execution_count": 101,
   "id": "28829961",
   "metadata": {
    "ExecuteTime": {
     "end_time": "2021-08-29T21:32:28.072128Z",
     "start_time": "2021-08-29T21:32:27.491796Z"
    }
   },
   "outputs": [
    {
     "data": {
      "text/plain": [
       "RandomForestClassifier()"
      ]
     },
     "execution_count": 101,
     "metadata": {},
     "output_type": "execute_result"
    }
   ],
   "source": [
    "rf_model.fit(X_train, y_train)"
   ]
  },
  {
   "cell_type": "code",
   "execution_count": 102,
   "id": "bcad5aee",
   "metadata": {
    "ExecuteTime": {
     "end_time": "2021-08-29T21:32:28.104145Z",
     "start_time": "2021-08-29T21:32:28.074127Z"
    }
   },
   "outputs": [],
   "source": [
    "rf_model_pred = rf_model.predict(X_test)"
   ]
  },
  {
   "cell_type": "code",
   "execution_count": 103,
   "id": "5e3ab039",
   "metadata": {
    "ExecuteTime": {
     "end_time": "2021-08-29T21:32:28.212236Z",
     "start_time": "2021-08-29T21:32:28.107106Z"
    }
   },
   "outputs": [],
   "source": [
    "rf_model_actual_predict = pd.DataFrame({'Actual': y_test, 'Predict': rf_model_pred})"
   ]
  },
  {
   "cell_type": "code",
   "execution_count": 104,
   "id": "50e07285",
   "metadata": {
    "ExecuteTime": {
     "end_time": "2021-08-29T21:32:28.291480Z",
     "start_time": "2021-08-29T21:32:28.214228Z"
    }
   },
   "outputs": [
    {
     "data": {
      "text/html": [
       "<div>\n",
       "<style scoped>\n",
       "    .dataframe tbody tr th:only-of-type {\n",
       "        vertical-align: middle;\n",
       "    }\n",
       "\n",
       "    .dataframe tbody tr th {\n",
       "        vertical-align: top;\n",
       "    }\n",
       "\n",
       "    .dataframe thead th {\n",
       "        text-align: right;\n",
       "    }\n",
       "</style>\n",
       "<table border=\"1\" class=\"dataframe\">\n",
       "  <thead>\n",
       "    <tr style=\"text-align: right;\">\n",
       "      <th></th>\n",
       "      <th>Actual</th>\n",
       "      <th>Predict</th>\n",
       "    </tr>\n",
       "  </thead>\n",
       "  <tbody>\n",
       "    <tr>\n",
       "      <th>13</th>\n",
       "      <td>0</td>\n",
       "      <td>0</td>\n",
       "    </tr>\n",
       "    <tr>\n",
       "      <th>510</th>\n",
       "      <td>0</td>\n",
       "      <td>0</td>\n",
       "    </tr>\n",
       "    <tr>\n",
       "      <th>268</th>\n",
       "      <td>0</td>\n",
       "      <td>0</td>\n",
       "    </tr>\n",
       "    <tr>\n",
       "      <th>358</th>\n",
       "      <td>0</td>\n",
       "      <td>0</td>\n",
       "    </tr>\n",
       "    <tr>\n",
       "      <th>289</th>\n",
       "      <td>0</td>\n",
       "      <td>1</td>\n",
       "    </tr>\n",
       "    <tr>\n",
       "      <th>483</th>\n",
       "      <td>1</td>\n",
       "      <td>0</td>\n",
       "    </tr>\n",
       "    <tr>\n",
       "      <th>429</th>\n",
       "      <td>0</td>\n",
       "      <td>0</td>\n",
       "    </tr>\n",
       "    <tr>\n",
       "      <th>47</th>\n",
       "      <td>0</td>\n",
       "      <td>0</td>\n",
       "    </tr>\n",
       "    <tr>\n",
       "      <th>223</th>\n",
       "      <td>0</td>\n",
       "      <td>0</td>\n",
       "    </tr>\n",
       "    <tr>\n",
       "      <th>185</th>\n",
       "      <td>0</td>\n",
       "      <td>0</td>\n",
       "    </tr>\n",
       "    <tr>\n",
       "      <th>430</th>\n",
       "      <td>0</td>\n",
       "      <td>0</td>\n",
       "    </tr>\n",
       "    <tr>\n",
       "      <th>308</th>\n",
       "      <td>0</td>\n",
       "      <td>0</td>\n",
       "    </tr>\n",
       "    <tr>\n",
       "      <th>120</th>\n",
       "      <td>0</td>\n",
       "      <td>0</td>\n",
       "    </tr>\n",
       "    <tr>\n",
       "      <th>250</th>\n",
       "      <td>0</td>\n",
       "      <td>0</td>\n",
       "    </tr>\n",
       "    <tr>\n",
       "      <th>111</th>\n",
       "      <td>0</td>\n",
       "      <td>0</td>\n",
       "    </tr>\n",
       "    <tr>\n",
       "      <th>293</th>\n",
       "      <td>0</td>\n",
       "      <td>0</td>\n",
       "    </tr>\n",
       "    <tr>\n",
       "      <th>65</th>\n",
       "      <td>0</td>\n",
       "      <td>1</td>\n",
       "    </tr>\n",
       "    <tr>\n",
       "      <th>477</th>\n",
       "      <td>0</td>\n",
       "      <td>0</td>\n",
       "    </tr>\n",
       "    <tr>\n",
       "      <th>573</th>\n",
       "      <td>0</td>\n",
       "      <td>0</td>\n",
       "    </tr>\n",
       "    <tr>\n",
       "      <th>449</th>\n",
       "      <td>0</td>\n",
       "      <td>0</td>\n",
       "    </tr>\n",
       "  </tbody>\n",
       "</table>\n",
       "</div>"
      ],
      "text/plain": [
       "     Actual  Predict\n",
       "13        0        0\n",
       "510       0        0\n",
       "268       0        0\n",
       "358       0        0\n",
       "289       0        1\n",
       "483       1        0\n",
       "429       0        0\n",
       "47        0        0\n",
       "223       0        0\n",
       "185       0        0\n",
       "430       0        0\n",
       "308       0        0\n",
       "120       0        0\n",
       "250       0        0\n",
       "111       0        0\n",
       "293       0        0\n",
       "65        0        1\n",
       "477       0        0\n",
       "573       0        0\n",
       "449       0        0"
      ]
     },
     "execution_count": 104,
     "metadata": {},
     "output_type": "execute_result"
    }
   ],
   "source": [
    "rf_model_actual_predict[20:40]"
   ]
  },
  {
   "cell_type": "code",
   "execution_count": 105,
   "id": "129d32a4",
   "metadata": {
    "ExecuteTime": {
     "end_time": "2021-08-29T21:32:28.417317Z",
     "start_time": "2021-08-29T21:32:28.294478Z"
    }
   },
   "outputs": [
    {
     "data": {
      "text/plain": [
       "78.33333333333333"
      ]
     },
     "execution_count": 105,
     "metadata": {},
     "output_type": "execute_result"
    }
   ],
   "source": [
    "rf_model.score(X_test, y_test)*100"
   ]
  },
  {
   "cell_type": "markdown",
   "id": "56fd4e77",
   "metadata": {},
   "source": [
    "# Apply Baging"
   ]
  },
  {
   "cell_type": "code",
   "execution_count": 106,
   "id": "37229ee3",
   "metadata": {
    "ExecuteTime": {
     "end_time": "2021-08-29T21:32:28.512553Z",
     "start_time": "2021-08-29T21:32:28.424311Z"
    }
   },
   "outputs": [],
   "source": [
    "from sklearn.ensemble import BaggingClassifier\n",
    "from sklearn.tree import DecisionTreeClassifier"
   ]
  },
  {
   "cell_type": "code",
   "execution_count": 107,
   "id": "b4b44daf",
   "metadata": {
    "ExecuteTime": {
     "end_time": "2021-08-29T21:32:28.636458Z",
     "start_time": "2021-08-29T21:32:28.515549Z"
    }
   },
   "outputs": [],
   "source": [
    "bg = BaggingClassifier(base_estimator= DecisionTreeClassifier(), max_samples = 0.5, max_features =1.0, n_estimators = 100, random_state=8)"
   ]
  },
  {
   "cell_type": "code",
   "execution_count": 108,
   "id": "3bf95512",
   "metadata": {
    "ExecuteTime": {
     "end_time": "2021-08-29T21:32:28.963538Z",
     "start_time": "2021-08-29T21:32:28.641457Z"
    }
   },
   "outputs": [
    {
     "data": {
      "text/plain": [
       "BaggingClassifier(base_estimator=DecisionTreeClassifier(), max_samples=0.5,\n",
       "                  n_estimators=100, random_state=8)"
      ]
     },
     "execution_count": 108,
     "metadata": {},
     "output_type": "execute_result"
    }
   ],
   "source": [
    "bg.fit(X_train, y_train)"
   ]
  },
  {
   "cell_type": "code",
   "execution_count": 109,
   "id": "3b30c80c",
   "metadata": {
    "ExecuteTime": {
     "end_time": "2021-08-29T21:32:29.119599Z",
     "start_time": "2021-08-29T21:32:28.966514Z"
    }
   },
   "outputs": [],
   "source": [
    "bg_prid = bg.predict(X_test)"
   ]
  },
  {
   "cell_type": "code",
   "execution_count": 110,
   "id": "f0486a2c",
   "metadata": {
    "ExecuteTime": {
     "end_time": "2021-08-29T21:32:29.320483Z",
     "start_time": "2021-08-29T21:32:29.123564Z"
    }
   },
   "outputs": [],
   "source": [
    "bg_actual_prid = pd.DataFrame({'Actual':y_test, 'Pridict': bg_prid})"
   ]
  },
  {
   "cell_type": "code",
   "execution_count": 111,
   "id": "67f294d5",
   "metadata": {
    "ExecuteTime": {
     "end_time": "2021-08-29T21:32:29.414896Z",
     "start_time": "2021-08-29T21:32:29.325480Z"
    }
   },
   "outputs": [
    {
     "data": {
      "text/html": [
       "<div>\n",
       "<style scoped>\n",
       "    .dataframe tbody tr th:only-of-type {\n",
       "        vertical-align: middle;\n",
       "    }\n",
       "\n",
       "    .dataframe tbody tr th {\n",
       "        vertical-align: top;\n",
       "    }\n",
       "\n",
       "    .dataframe thead th {\n",
       "        text-align: right;\n",
       "    }\n",
       "</style>\n",
       "<table border=\"1\" class=\"dataframe\">\n",
       "  <thead>\n",
       "    <tr style=\"text-align: right;\">\n",
       "      <th></th>\n",
       "      <th>Actual</th>\n",
       "      <th>Pridict</th>\n",
       "    </tr>\n",
       "  </thead>\n",
       "  <tbody>\n",
       "    <tr>\n",
       "      <th>446</th>\n",
       "      <td>1</td>\n",
       "      <td>0</td>\n",
       "    </tr>\n",
       "    <tr>\n",
       "      <th>404</th>\n",
       "      <td>0</td>\n",
       "      <td>0</td>\n",
       "    </tr>\n",
       "    <tr>\n",
       "      <th>509</th>\n",
       "      <td>1</td>\n",
       "      <td>0</td>\n",
       "    </tr>\n",
       "    <tr>\n",
       "      <th>455</th>\n",
       "      <td>0</td>\n",
       "      <td>0</td>\n",
       "    </tr>\n",
       "    <tr>\n",
       "      <th>201</th>\n",
       "      <td>0</td>\n",
       "      <td>0</td>\n",
       "    </tr>\n",
       "    <tr>\n",
       "      <th>23</th>\n",
       "      <td>0</td>\n",
       "      <td>0</td>\n",
       "    </tr>\n",
       "    <tr>\n",
       "      <th>415</th>\n",
       "      <td>0</td>\n",
       "      <td>0</td>\n",
       "    </tr>\n",
       "    <tr>\n",
       "      <th>548</th>\n",
       "      <td>0</td>\n",
       "      <td>0</td>\n",
       "    </tr>\n",
       "    <tr>\n",
       "      <th>66</th>\n",
       "      <td>0</td>\n",
       "      <td>0</td>\n",
       "    </tr>\n",
       "    <tr>\n",
       "      <th>165</th>\n",
       "      <td>0</td>\n",
       "      <td>0</td>\n",
       "    </tr>\n",
       "  </tbody>\n",
       "</table>\n",
       "</div>"
      ],
      "text/plain": [
       "     Actual  Pridict\n",
       "446       1        0\n",
       "404       0        0\n",
       "509       1        0\n",
       "455       0        0\n",
       "201       0        0\n",
       "23        0        0\n",
       "415       0        0\n",
       "548       0        0\n",
       "66        0        0\n",
       "165       0        0"
      ]
     },
     "execution_count": 111,
     "metadata": {},
     "output_type": "execute_result"
    }
   ],
   "source": [
    "bg_actual_prid[:10]"
   ]
  },
  {
   "cell_type": "code",
   "execution_count": 112,
   "id": "628cf07f",
   "metadata": {
    "ExecuteTime": {
     "end_time": "2021-08-29T21:32:29.555182Z",
     "start_time": "2021-08-29T21:32:29.419894Z"
    }
   },
   "outputs": [
    {
     "data": {
      "text/plain": [
       "0.7888888888888889"
      ]
     },
     "execution_count": 112,
     "metadata": {},
     "output_type": "execute_result"
    }
   ],
   "source": [
    "bg.score(X_test, y_test)"
   ]
  },
  {
   "cell_type": "code",
   "execution_count": null,
   "id": "87c311d9",
   "metadata": {},
   "outputs": [],
   "source": []
  },
  {
   "cell_type": "markdown",
   "id": "87d8bf6a",
   "metadata": {},
   "source": [
    "# Ada Boosting"
   ]
  },
  {
   "cell_type": "code",
   "execution_count": 113,
   "id": "cc096060",
   "metadata": {
    "ExecuteTime": {
     "end_time": "2021-08-29T21:32:29.633152Z",
     "start_time": "2021-08-29T21:32:29.558165Z"
    }
   },
   "outputs": [],
   "source": [
    "from sklearn.ensemble import AdaBoostClassifier"
   ]
  },
  {
   "cell_type": "code",
   "execution_count": 114,
   "id": "41228bd0",
   "metadata": {
    "ExecuteTime": {
     "end_time": "2021-08-29T21:32:29.834431Z",
     "start_time": "2021-08-29T21:32:29.636096Z"
    }
   },
   "outputs": [],
   "source": [
    "boost = AdaBoostClassifier(base_estimator= DecisionTreeClassifier(), n_estimators=100, learning_rate=1)"
   ]
  },
  {
   "cell_type": "code",
   "execution_count": 115,
   "id": "3520bef2",
   "metadata": {
    "ExecuteTime": {
     "end_time": "2021-08-29T21:32:30.283355Z",
     "start_time": "2021-08-29T21:32:29.838433Z"
    }
   },
   "outputs": [
    {
     "data": {
      "text/plain": [
       "AdaBoostClassifier(base_estimator=DecisionTreeClassifier(), learning_rate=1,\n",
       "                   n_estimators=100)"
      ]
     },
     "execution_count": 115,
     "metadata": {},
     "output_type": "execute_result"
    }
   ],
   "source": [
    "boost.fit(X_train, y_train)"
   ]
  },
  {
   "cell_type": "code",
   "execution_count": 116,
   "id": "0b3147b3",
   "metadata": {
    "ExecuteTime": {
     "end_time": "2021-08-29T21:32:30.393601Z",
     "start_time": "2021-08-29T21:32:30.286330Z"
    }
   },
   "outputs": [],
   "source": [
    "boost_pred = boost.predict(X_test)"
   ]
  },
  {
   "cell_type": "code",
   "execution_count": 117,
   "id": "fe31b3a3",
   "metadata": {
    "ExecuteTime": {
     "end_time": "2021-08-29T21:32:30.488505Z",
     "start_time": "2021-08-29T21:32:30.397563Z"
    }
   },
   "outputs": [],
   "source": [
    "boost_actual_predict = pd.DataFrame({\"Actual\": y_test, 'Predict': boost_pred})"
   ]
  },
  {
   "cell_type": "code",
   "execution_count": 118,
   "id": "fe54b70c",
   "metadata": {
    "ExecuteTime": {
     "end_time": "2021-08-29T21:32:30.583976Z",
     "start_time": "2021-08-29T21:32:30.490470Z"
    }
   },
   "outputs": [
    {
     "data": {
      "text/html": [
       "<div>\n",
       "<style scoped>\n",
       "    .dataframe tbody tr th:only-of-type {\n",
       "        vertical-align: middle;\n",
       "    }\n",
       "\n",
       "    .dataframe tbody tr th {\n",
       "        vertical-align: top;\n",
       "    }\n",
       "\n",
       "    .dataframe thead th {\n",
       "        text-align: right;\n",
       "    }\n",
       "</style>\n",
       "<table border=\"1\" class=\"dataframe\">\n",
       "  <thead>\n",
       "    <tr style=\"text-align: right;\">\n",
       "      <th></th>\n",
       "      <th>Actual</th>\n",
       "      <th>Predict</th>\n",
       "    </tr>\n",
       "  </thead>\n",
       "  <tbody>\n",
       "    <tr>\n",
       "      <th>446</th>\n",
       "      <td>1</td>\n",
       "      <td>1</td>\n",
       "    </tr>\n",
       "    <tr>\n",
       "      <th>404</th>\n",
       "      <td>0</td>\n",
       "      <td>1</td>\n",
       "    </tr>\n",
       "    <tr>\n",
       "      <th>509</th>\n",
       "      <td>1</td>\n",
       "      <td>0</td>\n",
       "    </tr>\n",
       "    <tr>\n",
       "      <th>455</th>\n",
       "      <td>0</td>\n",
       "      <td>0</td>\n",
       "    </tr>\n",
       "    <tr>\n",
       "      <th>201</th>\n",
       "      <td>0</td>\n",
       "      <td>0</td>\n",
       "    </tr>\n",
       "    <tr>\n",
       "      <th>23</th>\n",
       "      <td>0</td>\n",
       "      <td>0</td>\n",
       "    </tr>\n",
       "    <tr>\n",
       "      <th>415</th>\n",
       "      <td>0</td>\n",
       "      <td>1</td>\n",
       "    </tr>\n",
       "    <tr>\n",
       "      <th>548</th>\n",
       "      <td>0</td>\n",
       "      <td>1</td>\n",
       "    </tr>\n",
       "    <tr>\n",
       "      <th>66</th>\n",
       "      <td>0</td>\n",
       "      <td>0</td>\n",
       "    </tr>\n",
       "    <tr>\n",
       "      <th>165</th>\n",
       "      <td>0</td>\n",
       "      <td>1</td>\n",
       "    </tr>\n",
       "  </tbody>\n",
       "</table>\n",
       "</div>"
      ],
      "text/plain": [
       "     Actual  Predict\n",
       "446       1        1\n",
       "404       0        1\n",
       "509       1        0\n",
       "455       0        0\n",
       "201       0        0\n",
       "23        0        0\n",
       "415       0        1\n",
       "548       0        1\n",
       "66        0        0\n",
       "165       0        1"
      ]
     },
     "execution_count": 118,
     "metadata": {},
     "output_type": "execute_result"
    }
   ],
   "source": [
    "boost_actual_predict[:10]"
   ]
  },
  {
   "cell_type": "code",
   "execution_count": 119,
   "id": "fed48027",
   "metadata": {
    "ExecuteTime": {
     "end_time": "2021-08-29T21:32:30.677975Z",
     "start_time": "2021-08-29T21:32:30.588952Z"
    }
   },
   "outputs": [
    {
     "data": {
      "text/plain": [
       "0.6388888888888888"
      ]
     },
     "execution_count": 119,
     "metadata": {},
     "output_type": "execute_result"
    }
   ],
   "source": [
    "boost.score(X_test, y_test)"
   ]
  },
  {
   "cell_type": "code",
   "execution_count": null,
   "id": "3c3cf881",
   "metadata": {},
   "outputs": [],
   "source": []
  },
  {
   "cell_type": "markdown",
   "id": "b028c38a",
   "metadata": {},
   "source": [
    "# Build the Random Forest model using kfold"
   ]
  },
  {
   "cell_type": "code",
   "execution_count": 120,
   "id": "bbae1c80",
   "metadata": {
    "ExecuteTime": {
     "end_time": "2021-08-29T21:32:30.819543Z",
     "start_time": "2021-08-29T21:32:30.679948Z"
    }
   },
   "outputs": [],
   "source": [
    "from sklearn.model_selection import cross_val_score\n",
    "from sklearn.model_selection import KFold\n",
    "from sklearn.ensemble import RandomForestClassifier"
   ]
  },
  {
   "cell_type": "code",
   "execution_count": 121,
   "id": "b8dd56bf",
   "metadata": {
    "ExecuteTime": {
     "end_time": "2021-08-29T21:32:30.926523Z",
     "start_time": "2021-08-29T21:32:30.825537Z"
    }
   },
   "outputs": [],
   "source": [
    "kfold = KFold(n_splits=10)"
   ]
  },
  {
   "cell_type": "code",
   "execution_count": 122,
   "id": "c75fe2bb",
   "metadata": {
    "ExecuteTime": {
     "end_time": "2021-08-29T21:32:31.020771Z",
     "start_time": "2021-08-29T21:32:30.929491Z"
    }
   },
   "outputs": [],
   "source": [
    "num_trees = 100"
   ]
  },
  {
   "cell_type": "code",
   "execution_count": 123,
   "id": "fe31d40c",
   "metadata": {
    "ExecuteTime": {
     "end_time": "2021-08-29T21:32:31.178588Z",
     "start_time": "2021-08-29T21:32:31.024771Z"
    }
   },
   "outputs": [],
   "source": [
    "max_feature = 3"
   ]
  },
  {
   "cell_type": "code",
   "execution_count": 124,
   "id": "a53ef58d",
   "metadata": {
    "ExecuteTime": {
     "end_time": "2021-08-29T21:32:31.319498Z",
     "start_time": "2021-08-29T21:32:31.180554Z"
    }
   },
   "outputs": [],
   "source": [
    "rfc = RandomForestClassifier(n_estimators=num_trees, max_features= max_feature)"
   ]
  },
  {
   "cell_type": "code",
   "execution_count": 125,
   "id": "ee5ee55a",
   "metadata": {
    "ExecuteTime": {
     "end_time": "2021-08-29T21:32:34.526501Z",
     "start_time": "2021-08-29T21:32:31.322491Z"
    }
   },
   "outputs": [],
   "source": [
    "rfc = cross_val_score(rfc, train , test, cv=kfold)"
   ]
  },
  {
   "cell_type": "code",
   "execution_count": 126,
   "id": "376fb0c6",
   "metadata": {
    "ExecuteTime": {
     "end_time": "2021-08-29T21:32:34.542441Z",
     "start_time": "2021-08-29T21:32:34.529448Z"
    }
   },
   "outputs": [
    {
     "data": {
      "text/plain": [
       "array([0.78333333, 0.76666667, 0.68333333, 0.71666667, 0.76666667,\n",
       "       0.63333333, 0.85      , 0.7       , 0.73333333, 0.85      ])"
      ]
     },
     "execution_count": 126,
     "metadata": {},
     "output_type": "execute_result"
    }
   ],
   "source": [
    "rfc"
   ]
  },
  {
   "cell_type": "code",
   "execution_count": 127,
   "id": "f019c710",
   "metadata": {
    "ExecuteTime": {
     "end_time": "2021-08-29T21:32:34.883819Z",
     "start_time": "2021-08-29T21:32:34.545438Z"
    }
   },
   "outputs": [
    {
     "data": {
      "text/plain": [
       "74.83333333333333"
      ]
     },
     "execution_count": 127,
     "metadata": {},
     "output_type": "execute_result"
    }
   ],
   "source": [
    "rfc.mean()*100"
   ]
  },
  {
   "cell_type": "code",
   "execution_count": 128,
   "id": "603e3061",
   "metadata": {
    "ExecuteTime": {
     "end_time": "2021-08-29T21:32:35.073582Z",
     "start_time": "2021-08-29T21:32:34.888822Z"
    }
   },
   "outputs": [
    {
     "data": {
      "text/plain": [
       "6.601767440112787"
      ]
     },
     "execution_count": 128,
     "metadata": {},
     "output_type": "execute_result"
    }
   ],
   "source": [
    "rfc.std()*100"
   ]
  },
  {
   "cell_type": "code",
   "execution_count": null,
   "id": "27bc6e31",
   "metadata": {},
   "outputs": [],
   "source": []
  }
 ],
 "metadata": {
  "kernelspec": {
   "display_name": "Python 3",
   "language": "python",
   "name": "python3"
  },
  "language_info": {
   "codemirror_mode": {
    "name": "ipython",
    "version": 3
   },
   "file_extension": ".py",
   "mimetype": "text/x-python",
   "name": "python",
   "nbconvert_exporter": "python",
   "pygments_lexer": "ipython3",
   "version": "3.8.8"
  },
  "toc": {
   "base_numbering": 1,
   "nav_menu": {},
   "number_sections": true,
   "sideBar": true,
   "skip_h1_title": false,
   "title_cell": "Table of Contents",
   "title_sidebar": "Contents",
   "toc_cell": false,
   "toc_position": {},
   "toc_section_display": true,
   "toc_window_display": false
  },
  "varInspector": {
   "cols": {
    "lenName": 16,
    "lenType": 16,
    "lenVar": 40
   },
   "kernels_config": {
    "python": {
     "delete_cmd_postfix": "",
     "delete_cmd_prefix": "del ",
     "library": "var_list.py",
     "varRefreshCmd": "print(var_dic_list())"
    },
    "r": {
     "delete_cmd_postfix": ") ",
     "delete_cmd_prefix": "rm(",
     "library": "var_list.r",
     "varRefreshCmd": "cat(var_dic_list()) "
    }
   },
   "types_to_exclude": [
    "module",
    "function",
    "builtin_function_or_method",
    "instance",
    "_Feature"
   ],
   "window_display": false
  }
 },
 "nbformat": 4,
 "nbformat_minor": 5
}
