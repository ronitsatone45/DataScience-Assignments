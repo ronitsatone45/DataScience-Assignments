{
 "cells": [
  {
   "cell_type": "markdown",
   "id": "c0a12d3f",
   "metadata": {},
   "source": [
    "# KNN(Glass)"
   ]
  },
  {
   "cell_type": "markdown",
   "id": "2a7bab80",
   "metadata": {},
   "source": [
    "Prepare a model for glass classification using KNN"
   ]
  },
  {
   "cell_type": "code",
   "execution_count": 12,
   "id": "2a7137fd",
   "metadata": {
    "ExecuteTime": {
     "end_time": "2021-08-29T21:14:00.195252Z",
     "start_time": "2021-08-29T21:14:00.175159Z"
    }
   },
   "outputs": [],
   "source": [
    "import pandas as pd\n",
    "import numpy as np"
   ]
  },
  {
   "cell_type": "code",
   "execution_count": 13,
   "id": "5a6c7f77",
   "metadata": {
    "ExecuteTime": {
     "end_time": "2021-08-29T21:14:00.375344Z",
     "start_time": "2021-08-29T21:14:00.195252Z"
    }
   },
   "outputs": [
    {
     "data": {
      "text/html": [
       "<div>\n",
       "<style scoped>\n",
       "    .dataframe tbody tr th:only-of-type {\n",
       "        vertical-align: middle;\n",
       "    }\n",
       "\n",
       "    .dataframe tbody tr th {\n",
       "        vertical-align: top;\n",
       "    }\n",
       "\n",
       "    .dataframe thead th {\n",
       "        text-align: right;\n",
       "    }\n",
       "</style>\n",
       "<table border=\"1\" class=\"dataframe\">\n",
       "  <thead>\n",
       "    <tr style=\"text-align: right;\">\n",
       "      <th></th>\n",
       "      <th>RI</th>\n",
       "      <th>Na</th>\n",
       "      <th>Mg</th>\n",
       "      <th>Al</th>\n",
       "      <th>Si</th>\n",
       "      <th>K</th>\n",
       "      <th>Ca</th>\n",
       "      <th>Ba</th>\n",
       "      <th>Fe</th>\n",
       "      <th>Type</th>\n",
       "    </tr>\n",
       "  </thead>\n",
       "  <tbody>\n",
       "    <tr>\n",
       "      <th>0</th>\n",
       "      <td>1.52101</td>\n",
       "      <td>13.64</td>\n",
       "      <td>4.49</td>\n",
       "      <td>1.10</td>\n",
       "      <td>71.78</td>\n",
       "      <td>0.06</td>\n",
       "      <td>8.75</td>\n",
       "      <td>0.0</td>\n",
       "      <td>0.0</td>\n",
       "      <td>1</td>\n",
       "    </tr>\n",
       "    <tr>\n",
       "      <th>1</th>\n",
       "      <td>1.51761</td>\n",
       "      <td>13.89</td>\n",
       "      <td>3.60</td>\n",
       "      <td>1.36</td>\n",
       "      <td>72.73</td>\n",
       "      <td>0.48</td>\n",
       "      <td>7.83</td>\n",
       "      <td>0.0</td>\n",
       "      <td>0.0</td>\n",
       "      <td>1</td>\n",
       "    </tr>\n",
       "    <tr>\n",
       "      <th>2</th>\n",
       "      <td>1.51618</td>\n",
       "      <td>13.53</td>\n",
       "      <td>3.55</td>\n",
       "      <td>1.54</td>\n",
       "      <td>72.99</td>\n",
       "      <td>0.39</td>\n",
       "      <td>7.78</td>\n",
       "      <td>0.0</td>\n",
       "      <td>0.0</td>\n",
       "      <td>1</td>\n",
       "    </tr>\n",
       "    <tr>\n",
       "      <th>3</th>\n",
       "      <td>1.51766</td>\n",
       "      <td>13.21</td>\n",
       "      <td>3.69</td>\n",
       "      <td>1.29</td>\n",
       "      <td>72.61</td>\n",
       "      <td>0.57</td>\n",
       "      <td>8.22</td>\n",
       "      <td>0.0</td>\n",
       "      <td>0.0</td>\n",
       "      <td>1</td>\n",
       "    </tr>\n",
       "    <tr>\n",
       "      <th>4</th>\n",
       "      <td>1.51742</td>\n",
       "      <td>13.27</td>\n",
       "      <td>3.62</td>\n",
       "      <td>1.24</td>\n",
       "      <td>73.08</td>\n",
       "      <td>0.55</td>\n",
       "      <td>8.07</td>\n",
       "      <td>0.0</td>\n",
       "      <td>0.0</td>\n",
       "      <td>1</td>\n",
       "    </tr>\n",
       "  </tbody>\n",
       "</table>\n",
       "</div>"
      ],
      "text/plain": [
       "        RI     Na    Mg    Al     Si     K    Ca   Ba   Fe  Type\n",
       "0  1.52101  13.64  4.49  1.10  71.78  0.06  8.75  0.0  0.0     1\n",
       "1  1.51761  13.89  3.60  1.36  72.73  0.48  7.83  0.0  0.0     1\n",
       "2  1.51618  13.53  3.55  1.54  72.99  0.39  7.78  0.0  0.0     1\n",
       "3  1.51766  13.21  3.69  1.29  72.61  0.57  8.22  0.0  0.0     1\n",
       "4  1.51742  13.27  3.62  1.24  73.08  0.55  8.07  0.0  0.0     1"
      ]
     },
     "execution_count": 13,
     "metadata": {},
     "output_type": "execute_result"
    }
   ],
   "source": [
    "glass=pd.read_csv('glass.csv')\n",
    "glass.head()"
   ]
  },
  {
   "cell_type": "code",
   "execution_count": 14,
   "id": "5c666d42",
   "metadata": {
    "ExecuteTime": {
     "end_time": "2021-08-29T21:14:00.505409Z",
     "start_time": "2021-08-29T21:14:00.375344Z"
    }
   },
   "outputs": [
    {
     "name": "stdout",
     "output_type": "stream",
     "text": [
      "RI      0\n",
      "Na      0\n",
      "Mg      0\n",
      "Al      0\n",
      "Si      0\n",
      "K       0\n",
      "Ca      0\n",
      "Ba      0\n",
      "Fe      0\n",
      "Type    0\n",
      "dtype: int64\n"
     ]
    }
   ],
   "source": [
    "print(glass.isna().sum())"
   ]
  },
  {
   "cell_type": "code",
   "execution_count": 15,
   "id": "bce8168d",
   "metadata": {
    "ExecuteTime": {
     "end_time": "2021-08-29T21:14:00.675040Z",
     "start_time": "2021-08-29T21:14:00.505409Z"
    }
   },
   "outputs": [
    {
     "name": "stdout",
     "output_type": "stream",
     "text": [
      "RI      float64\n",
      "Na      float64\n",
      "Mg      float64\n",
      "Al      float64\n",
      "Si      float64\n",
      "K       float64\n",
      "Ca      float64\n",
      "Ba      float64\n",
      "Fe      float64\n",
      "Type      int64\n",
      "dtype: object\n"
     ]
    }
   ],
   "source": [
    "print(glass.dtypes)"
   ]
  },
  {
   "cell_type": "code",
   "execution_count": 16,
   "id": "9443fc0c",
   "metadata": {
    "ExecuteTime": {
     "end_time": "2021-08-29T21:14:00.935194Z",
     "start_time": "2021-08-29T21:14:00.680047Z"
    }
   },
   "outputs": [],
   "source": [
    "dataframe=glass.values\n",
    "X=dataframe[:,0:9]\n",
    "Y=dataframe[:,9]"
   ]
  },
  {
   "cell_type": "code",
   "execution_count": 17,
   "id": "a050ffa0",
   "metadata": {
    "ExecuteTime": {
     "end_time": "2021-08-29T21:14:03.165185Z",
     "start_time": "2021-08-29T21:14:00.935194Z"
    }
   },
   "outputs": [
    {
     "data": {
      "text/plain": [
       "GridSearchCV(estimator=KNeighborsClassifier(),\n",
       "             param_grid={'n_neighbors': array([ 2,  3,  4,  5,  6,  7,  8,  9, 10, 11, 12, 13, 14, 15, 16, 17, 18,\n",
       "       19, 20, 21, 22, 23, 24, 25, 26, 27, 28, 29, 30, 31, 32, 33, 34, 35,\n",
       "       36, 37, 38, 39, 40, 41, 42, 43, 44, 45, 46, 47, 48, 49])})"
      ]
     },
     "execution_count": 17,
     "metadata": {},
     "output_type": "execute_result"
    }
   ],
   "source": [
    "from sklearn.neighbors import KNeighborsClassifier\n",
    "from sklearn.model_selection import GridSearchCV\n",
    "from sklearn.model_selection import cross_val_score\n",
    "from sklearn.model_selection import KFold\n",
    "\n",
    "n_neighbors=np.array(range(2,50))\n",
    "param_grid=dict(n_neighbors=n_neighbors)\n",
    "model=KNeighborsClassifier()\n",
    "grid=GridSearchCV(estimator=model,param_grid=param_grid)\n",
    "grid.fit(X,Y)"
   ]
  },
  {
   "cell_type": "code",
   "execution_count": 18,
   "id": "46d54d7e",
   "metadata": {
    "ExecuteTime": {
     "end_time": "2021-08-29T21:14:03.185210Z",
     "start_time": "2021-08-29T21:14:03.165185Z"
    }
   },
   "outputs": [
    {
     "name": "stdout",
     "output_type": "stream",
     "text": [
      "0.6311184939091916\n",
      "{'n_neighbors': 2}\n"
     ]
    }
   ],
   "source": [
    "print(grid.best_score_)\n",
    "print(grid.best_params_)"
   ]
  },
  {
   "cell_type": "code",
   "execution_count": 19,
   "id": "59c4291d",
   "metadata": {
    "ExecuteTime": {
     "end_time": "2021-08-29T21:14:03.474959Z",
     "start_time": "2021-08-29T21:14:03.200598Z"
    }
   },
   "outputs": [],
   "source": [
    "kfold=KFold(n_splits=10)\n",
    "knn=KNeighborsClassifier(n_neighbors=1)\n",
    "result=cross_val_score(knn,X,Y,cv=kfold)"
   ]
  },
  {
   "cell_type": "code",
   "execution_count": 20,
   "id": "02908582",
   "metadata": {
    "ExecuteTime": {
     "end_time": "2021-08-29T21:14:03.543448Z",
     "start_time": "2021-08-29T21:14:03.479972Z"
    }
   },
   "outputs": [
    {
     "name": "stdout",
     "output_type": "stream",
     "text": [
      "0.5599567099567099\n"
     ]
    }
   ],
   "source": [
    "print(result.mean())"
   ]
  },
  {
   "cell_type": "code",
   "execution_count": 21,
   "id": "95bb3bbd",
   "metadata": {
    "ExecuteTime": {
     "end_time": "2021-08-29T21:14:03.755351Z",
     "start_time": "2021-08-29T21:14:03.549997Z"
    }
   },
   "outputs": [
    {
     "data": {
      "text/plain": [
       "1.0"
      ]
     },
     "execution_count": 21,
     "metadata": {},
     "output_type": "execute_result"
    }
   ],
   "source": [
    "knn.fit(X,Y)\n",
    "pred=knn.predict(X)\n",
    "pred[17]"
   ]
  },
  {
   "cell_type": "code",
   "execution_count": 22,
   "id": "2bd25eef",
   "metadata": {
    "ExecuteTime": {
     "end_time": "2021-08-29T21:14:03.985309Z",
     "start_time": "2021-08-29T21:14:03.755351Z"
    }
   },
   "outputs": [
    {
     "data": {
      "text/html": [
       "<div>\n",
       "<style scoped>\n",
       "    .dataframe tbody tr th:only-of-type {\n",
       "        vertical-align: middle;\n",
       "    }\n",
       "\n",
       "    .dataframe tbody tr th {\n",
       "        vertical-align: top;\n",
       "    }\n",
       "\n",
       "    .dataframe thead th {\n",
       "        text-align: right;\n",
       "    }\n",
       "</style>\n",
       "<table border=\"1\" class=\"dataframe\">\n",
       "  <thead>\n",
       "    <tr style=\"text-align: right;\">\n",
       "      <th></th>\n",
       "      <th>RI</th>\n",
       "      <th>Na</th>\n",
       "      <th>Mg</th>\n",
       "      <th>Al</th>\n",
       "      <th>Si</th>\n",
       "      <th>K</th>\n",
       "      <th>Ca</th>\n",
       "      <th>Ba</th>\n",
       "      <th>Fe</th>\n",
       "      <th>Type</th>\n",
       "      <th>predicted_type</th>\n",
       "    </tr>\n",
       "  </thead>\n",
       "  <tbody>\n",
       "    <tr>\n",
       "      <th>136</th>\n",
       "      <td>1.51806</td>\n",
       "      <td>13.00</td>\n",
       "      <td>3.80</td>\n",
       "      <td>1.08</td>\n",
       "      <td>73.07</td>\n",
       "      <td>0.56</td>\n",
       "      <td>8.38</td>\n",
       "      <td>0.00</td>\n",
       "      <td>0.12</td>\n",
       "      <td>2</td>\n",
       "      <td>2.0</td>\n",
       "    </tr>\n",
       "    <tr>\n",
       "      <th>137</th>\n",
       "      <td>1.51711</td>\n",
       "      <td>12.89</td>\n",
       "      <td>3.62</td>\n",
       "      <td>1.57</td>\n",
       "      <td>72.96</td>\n",
       "      <td>0.61</td>\n",
       "      <td>8.11</td>\n",
       "      <td>0.00</td>\n",
       "      <td>0.00</td>\n",
       "      <td>2</td>\n",
       "      <td>2.0</td>\n",
       "    </tr>\n",
       "    <tr>\n",
       "      <th>138</th>\n",
       "      <td>1.51674</td>\n",
       "      <td>12.79</td>\n",
       "      <td>3.52</td>\n",
       "      <td>1.54</td>\n",
       "      <td>73.36</td>\n",
       "      <td>0.66</td>\n",
       "      <td>7.90</td>\n",
       "      <td>0.00</td>\n",
       "      <td>0.00</td>\n",
       "      <td>2</td>\n",
       "      <td>2.0</td>\n",
       "    </tr>\n",
       "    <tr>\n",
       "      <th>139</th>\n",
       "      <td>1.51674</td>\n",
       "      <td>12.87</td>\n",
       "      <td>3.56</td>\n",
       "      <td>1.64</td>\n",
       "      <td>73.14</td>\n",
       "      <td>0.65</td>\n",
       "      <td>7.99</td>\n",
       "      <td>0.00</td>\n",
       "      <td>0.00</td>\n",
       "      <td>2</td>\n",
       "      <td>2.0</td>\n",
       "    </tr>\n",
       "    <tr>\n",
       "      <th>140</th>\n",
       "      <td>1.51690</td>\n",
       "      <td>13.33</td>\n",
       "      <td>3.54</td>\n",
       "      <td>1.61</td>\n",
       "      <td>72.54</td>\n",
       "      <td>0.68</td>\n",
       "      <td>8.11</td>\n",
       "      <td>0.00</td>\n",
       "      <td>0.00</td>\n",
       "      <td>2</td>\n",
       "      <td>2.0</td>\n",
       "    </tr>\n",
       "    <tr>\n",
       "      <th>141</th>\n",
       "      <td>1.51851</td>\n",
       "      <td>13.20</td>\n",
       "      <td>3.63</td>\n",
       "      <td>1.07</td>\n",
       "      <td>72.83</td>\n",
       "      <td>0.57</td>\n",
       "      <td>8.41</td>\n",
       "      <td>0.09</td>\n",
       "      <td>0.17</td>\n",
       "      <td>2</td>\n",
       "      <td>2.0</td>\n",
       "    </tr>\n",
       "    <tr>\n",
       "      <th>142</th>\n",
       "      <td>1.51662</td>\n",
       "      <td>12.85</td>\n",
       "      <td>3.51</td>\n",
       "      <td>1.44</td>\n",
       "      <td>73.01</td>\n",
       "      <td>0.68</td>\n",
       "      <td>8.23</td>\n",
       "      <td>0.06</td>\n",
       "      <td>0.25</td>\n",
       "      <td>2</td>\n",
       "      <td>2.0</td>\n",
       "    </tr>\n",
       "    <tr>\n",
       "      <th>143</th>\n",
       "      <td>1.51709</td>\n",
       "      <td>13.00</td>\n",
       "      <td>3.47</td>\n",
       "      <td>1.79</td>\n",
       "      <td>72.72</td>\n",
       "      <td>0.66</td>\n",
       "      <td>8.18</td>\n",
       "      <td>0.00</td>\n",
       "      <td>0.00</td>\n",
       "      <td>2</td>\n",
       "      <td>2.0</td>\n",
       "    </tr>\n",
       "    <tr>\n",
       "      <th>144</th>\n",
       "      <td>1.51660</td>\n",
       "      <td>12.99</td>\n",
       "      <td>3.18</td>\n",
       "      <td>1.23</td>\n",
       "      <td>72.97</td>\n",
       "      <td>0.58</td>\n",
       "      <td>8.81</td>\n",
       "      <td>0.00</td>\n",
       "      <td>0.24</td>\n",
       "      <td>2</td>\n",
       "      <td>2.0</td>\n",
       "    </tr>\n",
       "    <tr>\n",
       "      <th>145</th>\n",
       "      <td>1.51839</td>\n",
       "      <td>12.85</td>\n",
       "      <td>3.67</td>\n",
       "      <td>1.24</td>\n",
       "      <td>72.57</td>\n",
       "      <td>0.62</td>\n",
       "      <td>8.68</td>\n",
       "      <td>0.00</td>\n",
       "      <td>0.35</td>\n",
       "      <td>2</td>\n",
       "      <td>2.0</td>\n",
       "    </tr>\n",
       "    <tr>\n",
       "      <th>146</th>\n",
       "      <td>1.51769</td>\n",
       "      <td>13.65</td>\n",
       "      <td>3.66</td>\n",
       "      <td>1.11</td>\n",
       "      <td>72.77</td>\n",
       "      <td>0.11</td>\n",
       "      <td>8.60</td>\n",
       "      <td>0.00</td>\n",
       "      <td>0.00</td>\n",
       "      <td>3</td>\n",
       "      <td>3.0</td>\n",
       "    </tr>\n",
       "    <tr>\n",
       "      <th>147</th>\n",
       "      <td>1.51610</td>\n",
       "      <td>13.33</td>\n",
       "      <td>3.53</td>\n",
       "      <td>1.34</td>\n",
       "      <td>72.67</td>\n",
       "      <td>0.56</td>\n",
       "      <td>8.33</td>\n",
       "      <td>0.00</td>\n",
       "      <td>0.00</td>\n",
       "      <td>3</td>\n",
       "      <td>3.0</td>\n",
       "    </tr>\n",
       "    <tr>\n",
       "      <th>148</th>\n",
       "      <td>1.51670</td>\n",
       "      <td>13.24</td>\n",
       "      <td>3.57</td>\n",
       "      <td>1.38</td>\n",
       "      <td>72.70</td>\n",
       "      <td>0.56</td>\n",
       "      <td>8.44</td>\n",
       "      <td>0.00</td>\n",
       "      <td>0.10</td>\n",
       "      <td>3</td>\n",
       "      <td>3.0</td>\n",
       "    </tr>\n",
       "    <tr>\n",
       "      <th>149</th>\n",
       "      <td>1.51643</td>\n",
       "      <td>12.16</td>\n",
       "      <td>3.52</td>\n",
       "      <td>1.35</td>\n",
       "      <td>72.89</td>\n",
       "      <td>0.57</td>\n",
       "      <td>8.53</td>\n",
       "      <td>0.00</td>\n",
       "      <td>0.00</td>\n",
       "      <td>3</td>\n",
       "      <td>3.0</td>\n",
       "    </tr>\n",
       "    <tr>\n",
       "      <th>150</th>\n",
       "      <td>1.51665</td>\n",
       "      <td>13.14</td>\n",
       "      <td>3.45</td>\n",
       "      <td>1.76</td>\n",
       "      <td>72.48</td>\n",
       "      <td>0.60</td>\n",
       "      <td>8.38</td>\n",
       "      <td>0.00</td>\n",
       "      <td>0.17</td>\n",
       "      <td>3</td>\n",
       "      <td>3.0</td>\n",
       "    </tr>\n",
       "    <tr>\n",
       "      <th>151</th>\n",
       "      <td>1.52127</td>\n",
       "      <td>14.32</td>\n",
       "      <td>3.90</td>\n",
       "      <td>0.83</td>\n",
       "      <td>71.50</td>\n",
       "      <td>0.00</td>\n",
       "      <td>9.49</td>\n",
       "      <td>0.00</td>\n",
       "      <td>0.00</td>\n",
       "      <td>3</td>\n",
       "      <td>3.0</td>\n",
       "    </tr>\n",
       "  </tbody>\n",
       "</table>\n",
       "</div>"
      ],
      "text/plain": [
       "          RI     Na    Mg    Al     Si     K    Ca    Ba    Fe  Type  \\\n",
       "136  1.51806  13.00  3.80  1.08  73.07  0.56  8.38  0.00  0.12     2   \n",
       "137  1.51711  12.89  3.62  1.57  72.96  0.61  8.11  0.00  0.00     2   \n",
       "138  1.51674  12.79  3.52  1.54  73.36  0.66  7.90  0.00  0.00     2   \n",
       "139  1.51674  12.87  3.56  1.64  73.14  0.65  7.99  0.00  0.00     2   \n",
       "140  1.51690  13.33  3.54  1.61  72.54  0.68  8.11  0.00  0.00     2   \n",
       "141  1.51851  13.20  3.63  1.07  72.83  0.57  8.41  0.09  0.17     2   \n",
       "142  1.51662  12.85  3.51  1.44  73.01  0.68  8.23  0.06  0.25     2   \n",
       "143  1.51709  13.00  3.47  1.79  72.72  0.66  8.18  0.00  0.00     2   \n",
       "144  1.51660  12.99  3.18  1.23  72.97  0.58  8.81  0.00  0.24     2   \n",
       "145  1.51839  12.85  3.67  1.24  72.57  0.62  8.68  0.00  0.35     2   \n",
       "146  1.51769  13.65  3.66  1.11  72.77  0.11  8.60  0.00  0.00     3   \n",
       "147  1.51610  13.33  3.53  1.34  72.67  0.56  8.33  0.00  0.00     3   \n",
       "148  1.51670  13.24  3.57  1.38  72.70  0.56  8.44  0.00  0.10     3   \n",
       "149  1.51643  12.16  3.52  1.35  72.89  0.57  8.53  0.00  0.00     3   \n",
       "150  1.51665  13.14  3.45  1.76  72.48  0.60  8.38  0.00  0.17     3   \n",
       "151  1.52127  14.32  3.90  0.83  71.50  0.00  9.49  0.00  0.00     3   \n",
       "\n",
       "     predicted_type  \n",
       "136             2.0  \n",
       "137             2.0  \n",
       "138             2.0  \n",
       "139             2.0  \n",
       "140             2.0  \n",
       "141             2.0  \n",
       "142             2.0  \n",
       "143             2.0  \n",
       "144             2.0  \n",
       "145             2.0  \n",
       "146             3.0  \n",
       "147             3.0  \n",
       "148             3.0  \n",
       "149             3.0  \n",
       "150             3.0  \n",
       "151             3.0  "
      ]
     },
     "execution_count": 22,
     "metadata": {},
     "output_type": "execute_result"
    }
   ],
   "source": [
    "knn.fit(X,Y)\n",
    "pred_=knn.predict(X)\n",
    "glass['predicted_type']=pred_\n",
    "glass.iloc[136:152:,]"
   ]
  },
  {
   "cell_type": "code",
   "execution_count": null,
   "id": "5732a918",
   "metadata": {},
   "outputs": [],
   "source": []
  }
 ],
 "metadata": {
  "kernelspec": {
   "display_name": "Python 3",
   "language": "python",
   "name": "python3"
  },
  "language_info": {
   "codemirror_mode": {
    "name": "ipython",
    "version": 3
   },
   "file_extension": ".py",
   "mimetype": "text/x-python",
   "name": "python",
   "nbconvert_exporter": "python",
   "pygments_lexer": "ipython3",
   "version": "3.8.8"
  },
  "toc": {
   "base_numbering": 1,
   "nav_menu": {},
   "number_sections": true,
   "sideBar": true,
   "skip_h1_title": false,
   "title_cell": "Table of Contents",
   "title_sidebar": "Contents",
   "toc_cell": false,
   "toc_position": {},
   "toc_section_display": true,
   "toc_window_display": false
  },
  "varInspector": {
   "cols": {
    "lenName": 16,
    "lenType": 16,
    "lenVar": 40
   },
   "kernels_config": {
    "python": {
     "delete_cmd_postfix": "",
     "delete_cmd_prefix": "del ",
     "library": "var_list.py",
     "varRefreshCmd": "print(var_dic_list())"
    },
    "r": {
     "delete_cmd_postfix": ") ",
     "delete_cmd_prefix": "rm(",
     "library": "var_list.r",
     "varRefreshCmd": "cat(var_dic_list()) "
    }
   },
   "types_to_exclude": [
    "module",
    "function",
    "builtin_function_or_method",
    "instance",
    "_Feature"
   ],
   "window_display": false
  }
 },
 "nbformat": 4,
 "nbformat_minor": 5
}
