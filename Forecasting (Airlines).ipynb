{
 "cells": [
  {
   "cell_type": "markdown",
   "id": "a770668c",
   "metadata": {},
   "source": [
    "# Forecasting (Airlines)"
   ]
  },
  {
   "cell_type": "code",
   "execution_count": 1,
   "id": "b5886cf0",
   "metadata": {
    "ExecuteTime": {
     "end_time": "2021-08-30T11:47:54.603887Z",
     "start_time": "2021-08-30T11:47:35.536348Z"
    }
   },
   "outputs": [],
   "source": [
    "import numpy as np\n",
    "import pandas as pd\n",
    "import matplotlib.pyplot as plt\n",
    "import seaborn as sns\n",
    "\n",
    "import statsmodels.api as sm\n",
    "\n",
    "import warnings\n",
    "warnings.filterwarnings(\"ignore\")\n",
    "#inline visualization\n",
    "%matplotlib inline"
   ]
  },
  {
   "cell_type": "code",
   "execution_count": 2,
   "id": "0bea5e18",
   "metadata": {
    "ExecuteTime": {
     "end_time": "2021-08-30T11:47:57.805908Z",
     "start_time": "2021-08-30T11:47:54.611831Z"
    }
   },
   "outputs": [],
   "source": [
    "airlines = pd.read_excel('Airlines+Data.xlsx')"
   ]
  },
  {
   "cell_type": "code",
   "execution_count": 3,
   "id": "60af7c6e",
   "metadata": {
    "ExecuteTime": {
     "end_time": "2021-08-30T11:47:58.054285Z",
     "start_time": "2021-08-30T11:47:58.038266Z"
    }
   },
   "outputs": [],
   "source": [
    "df = airlines.copy()"
   ]
  },
  {
   "cell_type": "code",
   "execution_count": 4,
   "id": "f9d09845",
   "metadata": {
    "ExecuteTime": {
     "end_time": "2021-08-30T11:48:06.783329Z",
     "start_time": "2021-08-30T11:48:06.743234Z"
    }
   },
   "outputs": [
    {
     "data": {
      "text/html": [
       "<div>\n",
       "<style scoped>\n",
       "    .dataframe tbody tr th:only-of-type {\n",
       "        vertical-align: middle;\n",
       "    }\n",
       "\n",
       "    .dataframe tbody tr th {\n",
       "        vertical-align: top;\n",
       "    }\n",
       "\n",
       "    .dataframe thead th {\n",
       "        text-align: right;\n",
       "    }\n",
       "</style>\n",
       "<table border=\"1\" class=\"dataframe\">\n",
       "  <thead>\n",
       "    <tr style=\"text-align: right;\">\n",
       "      <th></th>\n",
       "      <th>Month</th>\n",
       "      <th>Passengers</th>\n",
       "    </tr>\n",
       "  </thead>\n",
       "  <tbody>\n",
       "    <tr>\n",
       "      <th>0</th>\n",
       "      <td>1995-01-01</td>\n",
       "      <td>112</td>\n",
       "    </tr>\n",
       "    <tr>\n",
       "      <th>1</th>\n",
       "      <td>1995-02-01</td>\n",
       "      <td>118</td>\n",
       "    </tr>\n",
       "    <tr>\n",
       "      <th>2</th>\n",
       "      <td>1995-03-01</td>\n",
       "      <td>132</td>\n",
       "    </tr>\n",
       "    <tr>\n",
       "      <th>3</th>\n",
       "      <td>1995-04-01</td>\n",
       "      <td>129</td>\n",
       "    </tr>\n",
       "    <tr>\n",
       "      <th>4</th>\n",
       "      <td>1995-05-01</td>\n",
       "      <td>121</td>\n",
       "    </tr>\n",
       "  </tbody>\n",
       "</table>\n",
       "</div>"
      ],
      "text/plain": [
       "       Month  Passengers\n",
       "0 1995-01-01         112\n",
       "1 1995-02-01         118\n",
       "2 1995-03-01         132\n",
       "3 1995-04-01         129\n",
       "4 1995-05-01         121"
      ]
     },
     "execution_count": 4,
     "metadata": {},
     "output_type": "execute_result"
    }
   ],
   "source": [
    "df.head()"
   ]
  },
  {
   "cell_type": "code",
   "execution_count": 5,
   "id": "6672e185",
   "metadata": {
    "ExecuteTime": {
     "end_time": "2021-08-30T11:48:21.007156Z",
     "start_time": "2021-08-30T11:48:20.991156Z"
    }
   },
   "outputs": [
    {
     "data": {
      "text/plain": [
       "Month         datetime64[ns]\n",
       "Passengers             int64\n",
       "dtype: object"
      ]
     },
     "execution_count": 5,
     "metadata": {},
     "output_type": "execute_result"
    }
   ],
   "source": [
    "df.dtypes"
   ]
  },
  {
   "cell_type": "code",
   "execution_count": 6,
   "id": "17452a36",
   "metadata": {
    "ExecuteTime": {
     "end_time": "2021-08-30T11:48:28.615409Z",
     "start_time": "2021-08-30T11:48:28.591309Z"
    }
   },
   "outputs": [],
   "source": [
    "#month as index\n",
    "df1 = df.set_index('Month')"
   ]
  },
  {
   "cell_type": "code",
   "execution_count": 7,
   "id": "4e1c4555",
   "metadata": {
    "ExecuteTime": {
     "end_time": "2021-08-30T11:48:36.665662Z",
     "start_time": "2021-08-30T11:48:36.641642Z"
    }
   },
   "outputs": [
    {
     "data": {
      "text/html": [
       "<div>\n",
       "<style scoped>\n",
       "    .dataframe tbody tr th:only-of-type {\n",
       "        vertical-align: middle;\n",
       "    }\n",
       "\n",
       "    .dataframe tbody tr th {\n",
       "        vertical-align: top;\n",
       "    }\n",
       "\n",
       "    .dataframe thead th {\n",
       "        text-align: right;\n",
       "    }\n",
       "</style>\n",
       "<table border=\"1\" class=\"dataframe\">\n",
       "  <thead>\n",
       "    <tr style=\"text-align: right;\">\n",
       "      <th></th>\n",
       "      <th>Passengers</th>\n",
       "    </tr>\n",
       "    <tr>\n",
       "      <th>Month</th>\n",
       "      <th></th>\n",
       "    </tr>\n",
       "  </thead>\n",
       "  <tbody>\n",
       "    <tr>\n",
       "      <th>1995-01-01</th>\n",
       "      <td>112</td>\n",
       "    </tr>\n",
       "    <tr>\n",
       "      <th>1995-02-01</th>\n",
       "      <td>118</td>\n",
       "    </tr>\n",
       "    <tr>\n",
       "      <th>1995-03-01</th>\n",
       "      <td>132</td>\n",
       "    </tr>\n",
       "    <tr>\n",
       "      <th>1995-04-01</th>\n",
       "      <td>129</td>\n",
       "    </tr>\n",
       "    <tr>\n",
       "      <th>1995-05-01</th>\n",
       "      <td>121</td>\n",
       "    </tr>\n",
       "  </tbody>\n",
       "</table>\n",
       "</div>"
      ],
      "text/plain": [
       "            Passengers\n",
       "Month                 \n",
       "1995-01-01         112\n",
       "1995-02-01         118\n",
       "1995-03-01         132\n",
       "1995-04-01         129\n",
       "1995-05-01         121"
      ]
     },
     "execution_count": 7,
     "metadata": {},
     "output_type": "execute_result"
    }
   ],
   "source": [
    "df1.head()"
   ]
  },
  {
   "cell_type": "code",
   "execution_count": 8,
   "id": "cdd043f9",
   "metadata": {
    "ExecuteTime": {
     "end_time": "2021-08-30T11:48:44.598628Z",
     "start_time": "2021-08-30T11:48:44.574625Z"
    }
   },
   "outputs": [],
   "source": [
    "#Square root Transformation\n",
    "from numpy import sqrt\n",
    "from pandas import DataFrame"
   ]
  },
  {
   "cell_type": "code",
   "execution_count": 9,
   "id": "8482aabc",
   "metadata": {
    "ExecuteTime": {
     "end_time": "2021-08-30T11:48:52.400186Z",
     "start_time": "2021-08-30T11:48:52.384186Z"
    }
   },
   "outputs": [],
   "source": [
    "dataframe = DataFrame(df1.values)\n",
    "dataframe.columns = ['Passengers']\n",
    "dataframe['Passengers'] = sqrt(dataframe['Passengers'])"
   ]
  },
  {
   "cell_type": "code",
   "execution_count": 10,
   "id": "93e0539d",
   "metadata": {
    "ExecuteTime": {
     "end_time": "2021-08-30T11:49:04.444686Z",
     "start_time": "2021-08-30T11:49:04.420708Z"
    }
   },
   "outputs": [],
   "source": [
    "## Transformation\n",
    "from numpy import log"
   ]
  },
  {
   "cell_type": "code",
   "execution_count": 12,
   "id": "0eaf5422",
   "metadata": {
    "ExecuteTime": {
     "end_time": "2021-08-30T11:49:07.753754Z",
     "start_time": "2021-08-30T11:49:07.729733Z"
    }
   },
   "outputs": [],
   "source": [
    "dataframe = DataFrame(df1.values)\n",
    "dataframe.columns = ['Passengers']\n",
    "dataframe['Passengers'] = log(dataframe['Passengers'])"
   ]
  },
  {
   "cell_type": "code",
   "execution_count": 13,
   "id": "6b08da94",
   "metadata": {
    "ExecuteTime": {
     "end_time": "2021-08-30T11:49:15.497372Z",
     "start_time": "2021-08-30T11:49:14.279884Z"
    }
   },
   "outputs": [
    {
     "data": {
      "text/html": [
       "<div>\n",
       "<style scoped>\n",
       "    .dataframe tbody tr th:only-of-type {\n",
       "        vertical-align: middle;\n",
       "    }\n",
       "\n",
       "    .dataframe tbody tr th {\n",
       "        vertical-align: top;\n",
       "    }\n",
       "\n",
       "    .dataframe thead th {\n",
       "        text-align: right;\n",
       "    }\n",
       "</style>\n",
       "<table border=\"1\" class=\"dataframe\">\n",
       "  <thead>\n",
       "    <tr style=\"text-align: right;\">\n",
       "      <th></th>\n",
       "      <th>Passengers</th>\n",
       "      <th>t</th>\n",
       "      <th>t_sq</th>\n",
       "      <th>log_Passengers</th>\n",
       "    </tr>\n",
       "    <tr>\n",
       "      <th>Month</th>\n",
       "      <th></th>\n",
       "      <th></th>\n",
       "      <th></th>\n",
       "      <th></th>\n",
       "    </tr>\n",
       "  </thead>\n",
       "  <tbody>\n",
       "    <tr>\n",
       "      <th>1995-01-01</th>\n",
       "      <td>112</td>\n",
       "      <td>1</td>\n",
       "      <td>1</td>\n",
       "      <td>4.718499</td>\n",
       "    </tr>\n",
       "    <tr>\n",
       "      <th>1995-02-01</th>\n",
       "      <td>118</td>\n",
       "      <td>2</td>\n",
       "      <td>4</td>\n",
       "      <td>4.770685</td>\n",
       "    </tr>\n",
       "    <tr>\n",
       "      <th>1995-03-01</th>\n",
       "      <td>132</td>\n",
       "      <td>3</td>\n",
       "      <td>9</td>\n",
       "      <td>4.882802</td>\n",
       "    </tr>\n",
       "    <tr>\n",
       "      <th>1995-04-01</th>\n",
       "      <td>129</td>\n",
       "      <td>4</td>\n",
       "      <td>16</td>\n",
       "      <td>4.859812</td>\n",
       "    </tr>\n",
       "    <tr>\n",
       "      <th>1995-05-01</th>\n",
       "      <td>121</td>\n",
       "      <td>5</td>\n",
       "      <td>25</td>\n",
       "      <td>4.795791</td>\n",
       "    </tr>\n",
       "    <tr>\n",
       "      <th>...</th>\n",
       "      <td>...</td>\n",
       "      <td>...</td>\n",
       "      <td>...</td>\n",
       "      <td>...</td>\n",
       "    </tr>\n",
       "    <tr>\n",
       "      <th>2002-08-01</th>\n",
       "      <td>405</td>\n",
       "      <td>92</td>\n",
       "      <td>8464</td>\n",
       "      <td>6.003887</td>\n",
       "    </tr>\n",
       "    <tr>\n",
       "      <th>2002-09-01</th>\n",
       "      <td>355</td>\n",
       "      <td>93</td>\n",
       "      <td>8649</td>\n",
       "      <td>5.872118</td>\n",
       "    </tr>\n",
       "    <tr>\n",
       "      <th>2002-10-01</th>\n",
       "      <td>306</td>\n",
       "      <td>94</td>\n",
       "      <td>8836</td>\n",
       "      <td>5.723585</td>\n",
       "    </tr>\n",
       "    <tr>\n",
       "      <th>2002-11-01</th>\n",
       "      <td>271</td>\n",
       "      <td>95</td>\n",
       "      <td>9025</td>\n",
       "      <td>5.602119</td>\n",
       "    </tr>\n",
       "    <tr>\n",
       "      <th>2002-12-01</th>\n",
       "      <td>306</td>\n",
       "      <td>96</td>\n",
       "      <td>9216</td>\n",
       "      <td>5.723585</td>\n",
       "    </tr>\n",
       "  </tbody>\n",
       "</table>\n",
       "<p>96 rows × 4 columns</p>\n",
       "</div>"
      ],
      "text/plain": [
       "            Passengers   t  t_sq  log_Passengers\n",
       "Month                                           \n",
       "1995-01-01         112   1     1        4.718499\n",
       "1995-02-01         118   2     4        4.770685\n",
       "1995-03-01         132   3     9        4.882802\n",
       "1995-04-01         129   4    16        4.859812\n",
       "1995-05-01         121   5    25        4.795791\n",
       "...                ...  ..   ...             ...\n",
       "2002-08-01         405  92  8464        6.003887\n",
       "2002-09-01         355  93  8649        5.872118\n",
       "2002-10-01         306  94  8836        5.723585\n",
       "2002-11-01         271  95  9025        5.602119\n",
       "2002-12-01         306  96  9216        5.723585\n",
       "\n",
       "[96 rows x 4 columns]"
      ]
     },
     "execution_count": 13,
     "metadata": {},
     "output_type": "execute_result"
    }
   ],
   "source": [
    "df1[\"t\"] = np.arange(1,97)\n",
    "\n",
    "df1[\"t_sq\"] = df1[\"t\"]*df1[\"t\"]\n",
    "\n",
    "df1[\"log_Passengers\"] = np.log(df1[\"Passengers\"])\n",
    "df1"
   ]
  },
  {
   "cell_type": "code",
   "execution_count": 14,
   "id": "6f9f1490",
   "metadata": {
    "ExecuteTime": {
     "end_time": "2021-08-30T11:49:22.771169Z",
     "start_time": "2021-08-30T11:49:22.763170Z"
    }
   },
   "outputs": [],
   "source": [
    "#Train\n",
    "Train = df1.head(77)\n",
    "#Test\n",
    "Test = df1.tail(19)"
   ]
  },
  {
   "cell_type": "code",
   "execution_count": 15,
   "id": "6173bf2c",
   "metadata": {
    "ExecuteTime": {
     "end_time": "2021-08-30T11:49:33.358210Z",
     "start_time": "2021-08-30T11:49:33.262219Z"
    }
   },
   "outputs": [
    {
     "data": {
      "text/plain": [
       "58.14854431950878"
      ]
     },
     "execution_count": 15,
     "metadata": {},
     "output_type": "execute_result"
    }
   ],
   "source": [
    "import statsmodels.formula.api as smf\n",
    "linear_model = smf.ols('Passengers~t',data=Train).fit()\n",
    "pred_linear =  pd.Series(linear_model.predict(pd.DataFrame(Test['t'])))\n",
    "rmse_linear = np.sqrt(np.mean((np.array(Test['Passengers'])-np.array(pred_linear))**2))\n",
    "rmse_linear"
   ]
  },
  {
   "cell_type": "code",
   "execution_count": 16,
   "id": "92376c20",
   "metadata": {
    "ExecuteTime": {
     "end_time": "2021-08-30T11:49:42.066575Z",
     "start_time": "2021-08-30T11:49:42.026579Z"
    }
   },
   "outputs": [
    {
     "data": {
      "text/plain": [
       "47.889654251840064"
      ]
     },
     "execution_count": 16,
     "metadata": {},
     "output_type": "execute_result"
    }
   ],
   "source": [
    "# Exponential Model\n",
    "Exp = smf.ols('log_Passengers~t',data=Train).fit()\n",
    "pred_Exp = pd.Series(Exp.predict(pd.DataFrame(Test['t'])))\n",
    "rmse_Exp = np.sqrt(np.mean((np.array(Test['Passengers'])-np.array(np.exp(pred_Exp)))**2))\n",
    "rmse_Exp"
   ]
  },
  {
   "cell_type": "code",
   "execution_count": 17,
   "id": "ea30c839",
   "metadata": {
    "ExecuteTime": {
     "end_time": "2021-08-30T11:49:50.482586Z",
     "start_time": "2021-08-30T11:49:50.402593Z"
    }
   },
   "outputs": [
    {
     "data": {
      "text/plain": [
       "58.9263285281883"
      ]
     },
     "execution_count": 17,
     "metadata": {},
     "output_type": "execute_result"
    }
   ],
   "source": [
    "# Quadratic Model\n",
    "Quad = smf.ols('Passengers~t+t_sq',data=Train).fit()\n",
    "pred_Quad = pd.Series(Quad.predict(Test[[\"t\",\"t_sq\"]]))\n",
    "rmse_Quad = np.sqrt(np.mean((np.array(Test['Passengers'])-np.array(pred_Quad))**2))\n",
    "rmse_Quad"
   ]
  },
  {
   "cell_type": "code",
   "execution_count": 19,
   "id": "43afde6d",
   "metadata": {
    "ExecuteTime": {
     "end_time": "2021-08-30T11:50:01.540278Z",
     "start_time": "2021-08-30T11:50:01.514012Z"
    }
   },
   "outputs": [
    {
     "data": {
      "text/html": [
       "<div>\n",
       "<style scoped>\n",
       "    .dataframe tbody tr th:only-of-type {\n",
       "        vertical-align: middle;\n",
       "    }\n",
       "\n",
       "    .dataframe tbody tr th {\n",
       "        vertical-align: top;\n",
       "    }\n",
       "\n",
       "    .dataframe thead th {\n",
       "        text-align: right;\n",
       "    }\n",
       "</style>\n",
       "<table border=\"1\" class=\"dataframe\">\n",
       "  <thead>\n",
       "    <tr style=\"text-align: right;\">\n",
       "      <th></th>\n",
       "      <th>MODEL</th>\n",
       "      <th>RMSE_Values</th>\n",
       "    </tr>\n",
       "  </thead>\n",
       "  <tbody>\n",
       "    <tr>\n",
       "      <th>1</th>\n",
       "      <td>rmse_Exp</td>\n",
       "      <td>47.889654</td>\n",
       "    </tr>\n",
       "    <tr>\n",
       "      <th>0</th>\n",
       "      <td>rmse_linear</td>\n",
       "      <td>58.148544</td>\n",
       "    </tr>\n",
       "    <tr>\n",
       "      <th>2</th>\n",
       "      <td>rmse_Quad</td>\n",
       "      <td>58.926329</td>\n",
       "    </tr>\n",
       "  </tbody>\n",
       "</table>\n",
       "</div>"
      ],
      "text/plain": [
       "         MODEL  RMSE_Values\n",
       "1     rmse_Exp    47.889654\n",
       "0  rmse_linear    58.148544\n",
       "2    rmse_Quad    58.926329"
      ]
     },
     "execution_count": 19,
     "metadata": {},
     "output_type": "execute_result"
    }
   ],
   "source": [
    "data = {\"MODEL\":pd.Series([\"rmse_linear\",\"rmse_Exp\",\"rmse_Quad\"]),\n",
    "        \"RMSE_Values\":pd.Series([rmse_linear,rmse_Exp,rmse_Quad,])}\n",
    "\n",
    "table_rmse=pd.DataFrame(data)\n",
    "table_rmse.sort_values(['RMSE_Values'])"
   ]
  },
  {
   "cell_type": "code",
   "execution_count": 20,
   "id": "5f78f210",
   "metadata": {
    "ExecuteTime": {
     "end_time": "2021-08-30T11:50:09.352493Z",
     "start_time": "2021-08-30T11:50:09.296494Z"
    }
   },
   "outputs": [
    {
     "data": {
      "text/html": [
       "<div>\n",
       "<style scoped>\n",
       "    .dataframe tbody tr th:only-of-type {\n",
       "        vertical-align: middle;\n",
       "    }\n",
       "\n",
       "    .dataframe tbody tr th {\n",
       "        vertical-align: top;\n",
       "    }\n",
       "\n",
       "    .dataframe thead th {\n",
       "        text-align: right;\n",
       "    }\n",
       "</style>\n",
       "<table border=\"1\" class=\"dataframe\">\n",
       "  <thead>\n",
       "    <tr style=\"text-align: right;\">\n",
       "      <th></th>\n",
       "      <th>Passengers</th>\n",
       "    </tr>\n",
       "    <tr>\n",
       "      <th>Month</th>\n",
       "      <th></th>\n",
       "    </tr>\n",
       "  </thead>\n",
       "  <tbody>\n",
       "    <tr>\n",
       "      <th>1995-01-01</th>\n",
       "      <td>112</td>\n",
       "    </tr>\n",
       "    <tr>\n",
       "      <th>1995-02-01</th>\n",
       "      <td>118</td>\n",
       "    </tr>\n",
       "    <tr>\n",
       "      <th>1995-03-01</th>\n",
       "      <td>132</td>\n",
       "    </tr>\n",
       "    <tr>\n",
       "      <th>1995-04-01</th>\n",
       "      <td>129</td>\n",
       "    </tr>\n",
       "    <tr>\n",
       "      <th>1995-05-01</th>\n",
       "      <td>121</td>\n",
       "    </tr>\n",
       "    <tr>\n",
       "      <th>...</th>\n",
       "      <td>...</td>\n",
       "    </tr>\n",
       "    <tr>\n",
       "      <th>2002-08-01</th>\n",
       "      <td>405</td>\n",
       "    </tr>\n",
       "    <tr>\n",
       "      <th>2002-09-01</th>\n",
       "      <td>355</td>\n",
       "    </tr>\n",
       "    <tr>\n",
       "      <th>2002-10-01</th>\n",
       "      <td>306</td>\n",
       "    </tr>\n",
       "    <tr>\n",
       "      <th>2002-11-01</th>\n",
       "      <td>271</td>\n",
       "    </tr>\n",
       "    <tr>\n",
       "      <th>2002-12-01</th>\n",
       "      <td>306</td>\n",
       "    </tr>\n",
       "  </tbody>\n",
       "</table>\n",
       "<p>96 rows × 1 columns</p>\n",
       "</div>"
      ],
      "text/plain": [
       "            Passengers\n",
       "Month                 \n",
       "1995-01-01         112\n",
       "1995-02-01         118\n",
       "1995-03-01         132\n",
       "1995-04-01         129\n",
       "1995-05-01         121\n",
       "...                ...\n",
       "2002-08-01         405\n",
       "2002-09-01         355\n",
       "2002-10-01         306\n",
       "2002-11-01         271\n",
       "2002-12-01         306\n",
       "\n",
       "[96 rows x 1 columns]"
      ]
     },
     "execution_count": 20,
     "metadata": {},
     "output_type": "execute_result"
    }
   ],
   "source": [
    "df2 = df1.iloc[:,0:1]\n",
    "df2"
   ]
  },
  {
   "cell_type": "code",
   "execution_count": 21,
   "id": "1bf87eff",
   "metadata": {
    "ExecuteTime": {
     "end_time": "2021-08-30T11:50:21.693189Z",
     "start_time": "2021-08-30T11:50:21.492702Z"
    }
   },
   "outputs": [
    {
     "name": "stdout",
     "output_type": "stream",
     "text": [
      "Dataset 86, Validation 10\n"
     ]
    }
   ],
   "source": [
    "# Validating\n",
    "split_point = len(df2) - 10\n",
    "dataset, validation = df2[0:split_point], df2[split_point:]\n",
    "print('Dataset %d, Validation %d' % (len(dataset), len(validation)))\n",
    "dataset.to_csv('dataset.csv', header=False)\n",
    "validation.to_csv('validation.csv', header=False)"
   ]
  },
  {
   "cell_type": "code",
   "execution_count": 22,
   "id": "c4fd1ccd",
   "metadata": {
    "ExecuteTime": {
     "end_time": "2021-08-30T11:50:33.174723Z",
     "start_time": "2021-08-30T11:50:28.454144Z"
    }
   },
   "outputs": [],
   "source": [
    "from pandas import read_csv\n",
    "from sklearn.metrics import mean_squared_error\n",
    "from math import sqrt"
   ]
  },
  {
   "cell_type": "code",
   "execution_count": 23,
   "id": "f0b35e19",
   "metadata": {
    "ExecuteTime": {
     "end_time": "2021-08-30T11:50:36.742074Z",
     "start_time": "2021-08-30T11:50:36.265186Z"
    }
   },
   "outputs": [],
   "source": [
    "train = read_csv('dataset.csv', header=None, index_col=0, parse_dates=True, squeeze=True)"
   ]
  },
  {
   "cell_type": "code",
   "execution_count": 25,
   "id": "34dda373",
   "metadata": {
    "ExecuteTime": {
     "end_time": "2021-08-30T11:51:41.552764Z",
     "start_time": "2021-08-30T11:51:41.536745Z"
    }
   },
   "outputs": [],
   "source": [
    "X = train.values\n",
    "X = X.astype('float32')\n",
    "train_size = int(len(X) * 0.50)\n",
    "train, test = X[0:train_size], X[train_size:]"
   ]
  },
  {
   "cell_type": "code",
   "execution_count": 26,
   "id": "2d8245af",
   "metadata": {
    "ExecuteTime": {
     "end_time": "2021-08-30T11:51:44.259539Z",
     "start_time": "2021-08-30T11:51:44.235518Z"
    }
   },
   "outputs": [
    {
     "name": "stdout",
     "output_type": "stream",
     "text": [
      ">Predicted=230.000, Expected=242.000\n",
      ">Predicted=242.000, Expected=209.000\n",
      ">Predicted=209.000, Expected=191.000\n",
      ">Predicted=191.000, Expected=172.000\n",
      ">Predicted=172.000, Expected=194.000\n",
      ">Predicted=194.000, Expected=196.000\n",
      ">Predicted=196.000, Expected=196.000\n",
      ">Predicted=196.000, Expected=236.000\n",
      ">Predicted=236.000, Expected=235.000\n",
      ">Predicted=235.000, Expected=229.000\n",
      ">Predicted=229.000, Expected=243.000\n",
      ">Predicted=243.000, Expected=264.000\n",
      ">Predicted=264.000, Expected=272.000\n",
      ">Predicted=272.000, Expected=237.000\n",
      ">Predicted=237.000, Expected=211.000\n",
      ">Predicted=211.000, Expected=180.000\n",
      ">Predicted=180.000, Expected=201.000\n",
      ">Predicted=201.000, Expected=204.000\n",
      ">Predicted=204.000, Expected=188.000\n",
      ">Predicted=188.000, Expected=235.000\n",
      ">Predicted=235.000, Expected=227.000\n",
      ">Predicted=227.000, Expected=234.000\n",
      ">Predicted=234.000, Expected=264.000\n",
      ">Predicted=264.000, Expected=302.000\n",
      ">Predicted=302.000, Expected=293.000\n",
      ">Predicted=293.000, Expected=259.000\n",
      ">Predicted=259.000, Expected=229.000\n",
      ">Predicted=229.000, Expected=203.000\n",
      ">Predicted=203.000, Expected=229.000\n",
      ">Predicted=229.000, Expected=242.000\n",
      ">Predicted=242.000, Expected=233.000\n",
      ">Predicted=233.000, Expected=267.000\n",
      ">Predicted=267.000, Expected=269.000\n",
      ">Predicted=269.000, Expected=270.000\n",
      ">Predicted=270.000, Expected=315.000\n",
      ">Predicted=315.000, Expected=364.000\n",
      ">Predicted=364.000, Expected=347.000\n",
      ">Predicted=347.000, Expected=312.000\n",
      ">Predicted=312.000, Expected=274.000\n",
      ">Predicted=274.000, Expected=237.000\n",
      ">Predicted=237.000, Expected=278.000\n",
      ">Predicted=278.000, Expected=284.000\n",
      ">Predicted=284.000, Expected=277.000\n",
      "RMSE: 25.698\n"
     ]
    }
   ],
   "source": [
    "#walk-forward\n",
    "history = [x for x in train]\n",
    "predictions = list()\n",
    "for i in range(len(test)):\n",
    "    yhat = history[-1]\n",
    "    predictions.append(yhat)\n",
    "    obs = test[i]\n",
    "    history.append(obs)\n",
    "    print('>Predicted=%.3f, Expected=%.3f' % (yhat, obs))\n",
    "# report\n",
    "rmse = sqrt(mean_squared_error(test, predictions))\n",
    "print('RMSE: %.3f' % rmse)"
   ]
  },
  {
   "cell_type": "raw",
   "id": "91fef901",
   "metadata": {},
   "source": [
    "## ARIMA Hyperparameters"
   ]
  },
  {
   "cell_type": "code",
   "execution_count": 27,
   "id": "9ed7e692",
   "metadata": {
    "ExecuteTime": {
     "end_time": "2021-08-30T11:51:56.677938Z",
     "start_time": "2021-08-30T11:51:56.646647Z"
    }
   },
   "outputs": [],
   "source": [
    "from statsmodels.tsa.arima_model import ARIMA\n",
    "from sklearn.metrics import mean_squared_error"
   ]
  },
  {
   "cell_type": "code",
   "execution_count": 28,
   "id": "7279344a",
   "metadata": {
    "ExecuteTime": {
     "end_time": "2021-08-30T11:52:07.855708Z",
     "start_time": "2021-08-30T11:52:07.839711Z"
    }
   },
   "outputs": [],
   "source": [
    "#evaluate an ARIMA model\n",
    "def evaluate_arima_model(X, arima_order):\n",
    "# prepare training dataset\n",
    "    X = X.astype('float32')\n",
    "    train_size = int(len(X) * 0.50)\n",
    "    train, test = X[0:train_size], X[train_size:]\n",
    "    history = [x for x in train]\n",
    "# make predictions\n",
    "    predictions = list()\n",
    "    for t in range(len(test)):\n",
    "        model = ARIMA(history, order=arima_order)\n",
    "# model_fit = model.fit(disp=0)\n",
    "        model_fit = model.fit(disp=0)\n",
    "        yhat = model_fit.forecast()[0]\n",
    "        predictions.append(yhat)\n",
    "        history.append(test[t])\n",
    "# calculate out of sample error\n",
    "    rmse = sqrt(mean_squared_error(test, predictions))\n",
    "    return rmse"
   ]
  },
  {
   "cell_type": "code",
   "execution_count": 29,
   "id": "53b07415",
   "metadata": {
    "ExecuteTime": {
     "end_time": "2021-08-30T11:52:17.608107Z",
     "start_time": "2021-08-30T11:52:17.592486Z"
    }
   },
   "outputs": [],
   "source": [
    "#evaluate combinations of p, d and q values\n",
    "def evaluate_models(dataset, p_values, d_values, q_values):\n",
    "    dataset = dataset.astype('float32')\n",
    "    best_score, best_cfg = float('inf'), None\n",
    "    for p in p_values:\n",
    "        for d in d_values:\n",
    "            for q in q_values:\n",
    "                order = (p,d,q)\n",
    "                try:\n",
    "                    rmse = evaluate_arima_model(train, order)\n",
    "                    if rmse < best_score:\n",
    "                        best_score, best_cfg = rmse, order\n",
    "                    print('ARIMA%s RMSE=%.3f' % (order,rmse))\n",
    "                except:\n",
    "                    continue\n",
    "    print('Best ARIMA%s RMSE=%.3f' % (best_cfg, best_score))"
   ]
  },
  {
   "cell_type": "code",
   "execution_count": 30,
   "id": "edec96d1",
   "metadata": {
    "ExecuteTime": {
     "end_time": "2021-08-30T11:52:26.623434Z",
     "start_time": "2021-08-30T11:52:26.607433Z"
    }
   },
   "outputs": [],
   "source": [
    "train = read_csv('dataset.csv', header=None, index_col=0, parse_dates=True, squeeze=True)"
   ]
  },
  {
   "cell_type": "code",
   "execution_count": 31,
   "id": "22cc5af7",
   "metadata": {
    "ExecuteTime": {
     "end_time": "2021-08-30T11:58:08.599559Z",
     "start_time": "2021-08-30T11:52:37.085823Z"
    }
   },
   "outputs": [
    {
     "name": "stdout",
     "output_type": "stream",
     "text": [
      "ARIMA(0, 0, 0) RMSE=78.563\n",
      "ARIMA(0, 0, 1) RMSE=44.789\n",
      "ARIMA(0, 1, 0) RMSE=25.903\n",
      "ARIMA(0, 1, 1) RMSE=25.355\n",
      "ARIMA(0, 1, 2) RMSE=27.772\n",
      "ARIMA(0, 1, 3) RMSE=23.806\n",
      "ARIMA(0, 1, 4) RMSE=22.640\n",
      "ARIMA(0, 2, 0) RMSE=32.474\n",
      "ARIMA(0, 2, 1) RMSE=26.640\n",
      "ARIMA(0, 2, 2) RMSE=25.942\n",
      "ARIMA(0, 2, 3) RMSE=27.913\n",
      "ARIMA(0, 2, 4) RMSE=25.151\n",
      "ARIMA(1, 0, 0) RMSE=26.036\n",
      "ARIMA(1, 0, 1) RMSE=25.282\n",
      "ARIMA(1, 0, 2) RMSE=520.374\n",
      "ARIMA(1, 1, 0) RMSE=25.679\n",
      "ARIMA(1, 2, 0) RMSE=31.603\n",
      "ARIMA(2, 0, 0) RMSE=25.620\n",
      "ARIMA(2, 1, 0) RMSE=25.467\n",
      "ARIMA(2, 2, 0) RMSE=30.414\n",
      "ARIMA(3, 0, 0) RMSE=25.510\n",
      "ARIMA(3, 0, 1) RMSE=24.956\n",
      "ARIMA(3, 1, 0) RMSE=25.648\n",
      "ARIMA(3, 2, 0) RMSE=30.597\n",
      "ARIMA(4, 0, 0) RMSE=25.764\n",
      "ARIMA(4, 1, 0) RMSE=25.344\n",
      "ARIMA(4, 2, 0) RMSE=29.205\n",
      "ARIMA(4, 2, 1) RMSE=26.016\n",
      "Best ARIMA(0, 1, 4) RMSE=22.640\n"
     ]
    }
   ],
   "source": [
    "p_values = range(0, 5)\n",
    "d_values = range(0, 5)\n",
    "q_values = range(0, 5)\n",
    "evaluate_models(train.values, p_values, d_values, q_values)"
   ]
  },
  {
   "cell_type": "code",
   "execution_count": 32,
   "id": "6f535777",
   "metadata": {
    "ExecuteTime": {
     "end_time": "2021-08-30T11:58:27.975204Z",
     "start_time": "2021-08-30T11:58:21.376339Z"
    }
   },
   "outputs": [],
   "source": [
    "train = read_csv('dataset.csv', header=0, index_col=0, parse_dates=True)"
   ]
  },
  {
   "cell_type": "code",
   "execution_count": 33,
   "id": "020f33aa",
   "metadata": {
    "ExecuteTime": {
     "end_time": "2021-08-30T11:58:28.503143Z",
     "start_time": "2021-08-30T11:58:28.047167Z"
    }
   },
   "outputs": [],
   "source": [
    "X = train.values\n",
    "X = X.astype('float32')"
   ]
  },
  {
   "cell_type": "code",
   "execution_count": 34,
   "id": "e456ed9d",
   "metadata": {
    "ExecuteTime": {
     "end_time": "2021-08-30T11:58:46.949147Z",
     "start_time": "2021-08-30T11:58:28.575131Z"
    }
   },
   "outputs": [
    {
     "data": {
      "image/png": "[encoded data removed]",
      "text/plain": [
       "<Figure size 432x288 with 1 Axes>"
      ]
     },
     "execution_count": 34,
     "metadata": {},
     "output_type": "execute_result"
    },
    {
     "data": {
      "image/png": "[encoded data removed]",
      "text/plain": [
       "<Figure size 432x288 with 1 Axes>"
      ]
     },
     "metadata": {
      "needs_background": "light"
     },
     "output_type": "display_data"
    }
   ],
   "source": [
    "model = ARIMA(X, order=(0,1,4))\n",
    "model_fit = model.fit()\n",
    "forecast=model_fit.forecast(steps=10)[0]\n",
    "model_fit.plot_predict(1, 96)"
   ]
  },
  {
   "cell_type": "code",
   "execution_count": 35,
   "id": "b8e07a1c",
   "metadata": {
    "ExecuteTime": {
     "end_time": "2021-08-30T11:58:48.578655Z",
     "start_time": "2021-08-30T11:58:47.855351Z"
    }
   },
   "outputs": [
    {
     "data": {
      "text/plain": [
       "59.81126842974069"
      ]
     },
     "execution_count": 35,
     "metadata": {},
     "output_type": "execute_result"
    }
   ],
   "source": [
    "#Error on the test set\n",
    "val=pd.read_csv('validation.csv',header=None)\n",
    "rmse = sqrt(mean_squared_error(val[1], forecast))\n",
    "rmse"
   ]
  },
  {
   "cell_type": "code",
   "execution_count": 36,
   "id": "8a61f03c",
   "metadata": {
    "ExecuteTime": {
     "end_time": "2021-08-30T11:58:53.565164Z",
     "start_time": "2021-08-30T11:58:48.690646Z"
    }
   },
   "outputs": [],
   "source": [
    "#fit model\n",
    "df = pd.read_excel('Airlines+Data.xlsx')\n",
    "df1= df.set_index('Month')"
   ]
  },
  {
   "cell_type": "code",
   "execution_count": 37,
   "id": "1db99780",
   "metadata": {
    "ExecuteTime": {
     "end_time": "2021-08-30T11:58:53.675737Z",
     "start_time": "2021-08-30T11:58:53.665704Z"
    }
   },
   "outputs": [],
   "source": [
    "X = df1.values\n",
    "X = X.astype('float32')"
   ]
  },
  {
   "cell_type": "code",
   "execution_count": 38,
   "id": "15524451",
   "metadata": {
    "ExecuteTime": {
     "end_time": "2021-08-30T11:58:54.465937Z",
     "start_time": "2021-08-30T11:58:53.775355Z"
    }
   },
   "outputs": [],
   "source": [
    "model = ARIMA(X, order=(0,1,4))\n",
    "model_fit = model.fit()\n"
   ]
  },
  {
   "cell_type": "code",
   "execution_count": 39,
   "id": "4aa2e1c6",
   "metadata": {
    "ExecuteTime": {
     "end_time": "2021-08-30T11:58:55.455755Z",
     "start_time": "2021-08-30T11:58:54.565843Z"
    }
   },
   "outputs": [
    {
     "data": {
      "image/png": "[encoded data removed]",
      "text/plain": [
       "<Figure size 432x288 with 1 Axes>"
      ]
     },
     "execution_count": 39,
     "metadata": {},
     "output_type": "execute_result"
    },
    {
     "data": {
      "image/png": "[encoded data removed]",
      "text/plain": [
       "<Figure size 432x288 with 1 Axes>"
      ]
     },
     "metadata": {
      "needs_background": "light"
     },
     "output_type": "display_data"
    }
   ],
   "source": [
    "forecast=model_fit.forecast(steps=10)[0]\n",
    "model_fit.plot_predict(1,96)"
   ]
  },
  {
   "cell_type": "code",
   "execution_count": 40,
   "id": "94489297",
   "metadata": {
    "ExecuteTime": {
     "end_time": "2021-08-30T11:58:56.479150Z",
     "start_time": "2021-08-30T11:58:55.615930Z"
    }
   },
   "outputs": [
    {
     "data": {
      "text/plain": [
       "array([333.64542879, 338.10561722, 344.47641233, 334.9909133 ,\n",
       "       337.34156945, 339.6922256 , 342.04288175, 344.3935379 ,\n",
       "       346.74419405, 349.0948502 ])"
      ]
     },
     "execution_count": 40,
     "metadata": {},
     "output_type": "execute_result"
    }
   ],
   "source": [
    "forecast"
   ]
  },
  {
   "cell_type": "code",
   "execution_count": null,
   "id": "16a47acc",
   "metadata": {},
   "outputs": [],
   "source": []
  }
 ],
 "metadata": {
  "kernelspec": {
   "display_name": "Python 3",
   "language": "python",
   "name": "python3"
  },
  "language_info": {
   "codemirror_mode": {
    "name": "ipython",
    "version": 3
   },
   "file_extension": ".py",
   "mimetype": "text/x-python",
   "name": "python",
   "nbconvert_exporter": "python",
   "pygments_lexer": "ipython3",
   "version": "3.8.8"
  },
  "toc": {
   "base_numbering": 1,
   "nav_menu": {},
   "number_sections": true,
   "sideBar": true,
   "skip_h1_title": false,
   "title_cell": "Table of Contents",
   "title_sidebar": "Contents",
   "toc_cell": false,
   "toc_position": {},
   "toc_section_display": true,
   "toc_window_display": false
  },
  "varInspector": {
   "cols": {
    "lenName": 16,
    "lenType": 16,
    "lenVar": 40
   },
   "kernels_config": {
    "python": {
     "delete_cmd_postfix": "",
     "delete_cmd_prefix": "del ",
     "library": "var_list.py",
     "varRefreshCmd": "print(var_dic_list())"
    },
    "r": {
     "delete_cmd_postfix": ") ",
     "delete_cmd_prefix": "rm(",
     "library": "var_list.r",
     "varRefreshCmd": "cat(var_dic_list()) "
    }
   },
   "types_to_exclude": [
    "module",
    "function",
    "builtin_function_or_method",
    "instance",
    "_Feature"
   ],
   "window_display": false
  }
 },
 "nbformat": 4,
 "nbformat_minor": 5
}
